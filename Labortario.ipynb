{
  "cells": [
    {
      "cell_type": "code",
      "execution_count": null,
      "metadata": {
        "id": "YjBqKuYqF1zg"
      },
      "outputs": [],
      "source": [
        "#leer el csv\n",
        "\n",
        "import pandas as pd\n",
        "import copy, pprint\n",
        "\n",
        "url = 'https://raw.githubusercontent.com/Jhonatan0001/Laboratorio/main/co_properties_final.csv'\n",
        "df = pd.read_csv(url)\n",
        "\n",
        "list_properties = df.values.tolist()\n",
        "\n",
        "properties = [Property(x[0],x[1],x[2],x[3],x[4],x[5],x[6],x[7],x[8],x[9],x[10],x[11]) for x in list_properties]"
      ]
    },
    {
      "cell_type": "code",
      "execution_count": null,
      "metadata": {
        "id": "4TdBR7pg37E6"
      },
      "outputs": [],
      "source": [
        "class QueueP:\n",
        "    def __init__(self, len) -> None:\n",
        "        self.__info = []\n",
        "        self.__len = len\n",
        "\n",
        "    def add(self, data):\n",
        "        if len(self.__info) == self.__len:\n",
        "            print(\"La cola esta llena\")\n",
        "            return\n",
        "        self.__info.append(data)\n",
        "\n",
        "    def pop(self):\n",
        "        if len(self.__info) == 0:\n",
        "            print(\"La pila esta vacia\")\n",
        "            return\n",
        "        return self.__info.pop(0)\n",
        "\n",
        "    def is_empty(self):\n",
        "        return not bool(self.__info)"
      ]
    },
    {
      "cell_type": "code",
      "execution_count": null,
      "metadata": {
        "id": "97Hfy5SlKWe0"
      },
      "outputs": [],
      "source": [
        "from typing import List\n",
        "class Property:\n",
        "\n",
        "  def __init__(self, title : str, department: str, city : str, property_type : str, latitude : int, longitude: int, surface_total : int, surface_covered : int, bedrooms : int, bathrooms : int, operation_type : str, price: int) -> None:\n",
        "    self.title = title\n",
        "    self.department = department\n",
        "    self.city = city\n",
        "    self.property_type = property_type\n",
        "    self.latitude = latitude\n",
        "    self.longitude = longitude\n",
        "    self.surface_total = surface_total\n",
        "    self.surface_covered = surface_covered\n",
        "    self.bedrooms = bedrooms\n",
        "    self.bathrooms = bathrooms\n",
        "    self.operation_type = operation_type\n",
        "    self.price = price\n",
        "\n",
        "  def __repr__(self) -> str:\n",
        "    rep = f'[{self.title}, {self.department}, {self.city}, {self.property_type}, {self.latitude}, {self.longitude}, {self.surface_total}, {self.surface_covered}, {self.bedrooms}, {self.bathrooms}, {self.operation_type}, {self.price}, {self.metric}]'\n",
        "    return str(rep)\n"
      ]
    },
    {
      "cell_type": "code",
      "execution_count": null,
      "metadata": {
        "id": "ARy_HWEKOsf1"
      },
      "outputs": [],
      "source": [
        "class Node:   #clase nodo\n",
        "    def __init__(self, info: \"Property\"):\n",
        "        self.info = info\n",
        "        self.nivel = 0\n",
        "        self.metric = float(self.info.price/self.info.surface_total)  # se define la metrica en cada nodo al momento de crearlo\n",
        "        #self.metric2 = float(\"{0:.2}\".format(self.info.longitude))\n",
        "        self.metric2 = float((self.info.price/self.info.surface_covered) * (self.info.surface_covered * 0.1 * self.info.bedrooms + self.info.surface_covered * 0.05))\n",
        "        self.left = None\n",
        "        self.right = None\n",
        "        self.height = 1\n",
        "\n",
        "    def code(self)-> str:\n",
        "      code = self.info.title.split(\" \")\n",
        "      return code[-1]\n",
        "\n",
        "\n",
        "    def balance(self):  #calcula el factor de equilibrio del nodo\n",
        "        return height(self.right) - height(self.left)\n",
        "\n",
        "    def update_height(self):     #actualiza la altura del nodo (al momento de insertar o eliminar)\n",
        "        if self.left is not None:\n",
        "          left_height = height(self.left)\n",
        "        else:\n",
        "          left_height = 0\n",
        "        if self.right is not None:\n",
        "          right_height = height(self.right)\n",
        "        else:\n",
        "          right_height = 0\n",
        "        self.height = 1 + max(right_height, left_height)\n",
        "\n",
        "def height(node):        #calcula la altura de un nodo\n",
        "  if node is None:\n",
        "      return 0\n",
        "  else:\n",
        "      left_height = height(node.left)\n",
        "      right_height = height(node.right)\n",
        "      return 1 + max(left_height, right_height)\n",
        "\n",
        "\n",
        "\n"
      ]
    },
    {
      "cell_type": "code",
      "execution_count": null,
      "metadata": {
        "id": "1glCkrFFzYp5"
      },
      "outputs": [],
      "source": [
        "from typing import Any, Optional, Tuple\n",
        "import graphviz as gp\n",
        "import folium\n",
        "from IPython.display import display\n",
        "nodos_desbalanceados =[]  #se inicializa una lista para tener los nodos desbalanceados en cada insercion\n",
        "\n",
        "class Tree:    #se define la clase arbol\n",
        "\n",
        "\n",
        "  def lvOrder(self,queue):     #levelOrder recursivo\n",
        "          if not queue.is_empty():\n",
        "              current = queue.pop()\n",
        "              print(current.metric,current.metric2)\n",
        "              if current.left:\n",
        "                  queue.add(current.left)\n",
        "              if current.right:\n",
        "                  queue.add(current.right)\n",
        "              self.lvOrder(queue)\n",
        "          else:\n",
        "              return\n",
        "\n",
        "  def __init__(self):\n",
        "    self.root = None\n",
        "    self.balanced = True\n",
        "\n",
        "  def __asignar_nvl(self, nodo, padre):\n",
        "        if nodo is None:\n",
        "            return 0\n",
        "        else:\n",
        "            if not nodo == self.root:\n",
        "                nodo.nivel = padre.nivel + 1\n",
        "            #print(nodo)\n",
        "            altura_izquierda = self.__asignar_nvl(nodo.left, nodo)\n",
        "            altura_derecha = self.__asignar_nvl(nodo.right, nodo)\n",
        "\n",
        "  def asignar_nivel(self):\n",
        "        #print(\"\\n Se asigna el nivel\")\n",
        "        self.root.nivel = 0\n",
        "        self.__asignar_nvl(self.root, None)\n",
        "\n",
        "  def plot_tree(self) -> \"gp.graphs\":    #funcion para graficar el arbol\n",
        "    plot = gp.Digraph()\n",
        "    code = self.root.info.title.split(\" \")   #usamos el codigo del titulo como representacion del nodo\n",
        "    plot.node(str(code[-1]))\n",
        "\n",
        "    def add_edges(node) -> None:                      #creamos los vertices hijos y agregamos la arista entre ellos\n",
        "      if node.left:\n",
        "        code_left = node.left.info.title.split(\" \")\n",
        "        code = node.info.title.split(\" \")\n",
        "        plot.node(str(code_left[-1]))\n",
        "        plot.edge(str(code[-1]), str(code_left[-1]))\n",
        "        add_edges(node.left)\n",
        "      if node.right:\n",
        "        code_right = node.right.info.title.split(\" \")\n",
        "        code = node.info.title.split(\" \")\n",
        "        plot.node(str(code_right[-1]))\n",
        "        plot.edge(str(code[-1]), str(code_right[-1]))\n",
        "        add_edges(node.right)\n",
        "\n",
        "    add_edges(self.root)\n",
        "\n",
        "    return plot\n",
        "\n",
        "  def plot_tree_metric(self) -> \"gp.graphs\":  #funcion para graficar el arbol por metricas\n",
        "\n",
        "    plot = gp.Digraph()\n",
        "    code = self.root.metric\n",
        "    plot.node(str(code))\n",
        "\n",
        "    def add_edges(node) -> None:\n",
        "      if node.left:\n",
        "        code_left = node.left.metric\n",
        "        code = node.metric\n",
        "        plot.node(str(code_left))\n",
        "        plot.edge(str(code), str(code_left))\n",
        "        add_edges(node.left)\n",
        "      if node.right:\n",
        "        code_right = node.right.metric\n",
        "        code = node.metric\n",
        "        plot.node(str(code_right))\n",
        "        plot.edge(str(code), str(code_right))\n",
        "        add_edges(node.right)\n",
        "\n",
        "    add_edges(self.root)\n",
        "\n",
        "    return plot\n",
        "\n",
        "  def verify_tree_balance(self, root: \"Node\"): #verifica el factor de balanceo de todos los nodos del arbol (desde las hojas hasta la raiz)\n",
        "\n",
        "    if root is not None:\n",
        "          self.verify_tree_balance(root.left)\n",
        "          self.verify_tree_balance(root.right)\n",
        "\n",
        "          if root.balance() <-1 or root.balance() > 1:\n",
        "            self.balanced = False\n",
        "            nodos_desbalanceados.append(root)\n",
        "\n",
        "          return nodos_desbalanceados  #retorna los nodos desbalanceados\n",
        "\n",
        "\n",
        "  def balance_tree(self, nodo_desbalanceado: \"Node\"): #balancea el arbol luego de insertar o eliminar un nodo\n",
        "\n",
        "    if not self.balanced: #verifica que el arbol no este balanceado\n",
        "          if nodo_desbalanceado.balance() == 2 and nodo_desbalanceado.right.balance() >=0: #caso rotacion simple izquierda\n",
        "\n",
        "            self.rotacion_izq(nodo_desbalanceado)\n",
        "\n",
        "          elif nodo_desbalanceado.balance() == -2 and nodo_desbalanceado.left.balance() <=0: #caso rotacion simple derecha\n",
        "\n",
        "            self.rotacion_der(nodo_desbalanceado)\n",
        "\n",
        "          elif nodo_desbalanceado.balance() == 2:      #caso rotacion doble derecha izquierda\n",
        "\n",
        "            self.doble_der_izq(nodo_desbalanceado)\n",
        "\n",
        "          else:                                      #caso rotacion doble izquierda derecha\n",
        "\n",
        "            self.doble_izq_der(nodo_desbalanceado)\n",
        "\n",
        "          self.verify_tree_balance(self.root)             #se muestra que haya quedado balanceado\n",
        "\n",
        "    nodos_desbalanceados.clear()  #reinicio de la lista de nodos desbalanceados\n",
        "    self.balanced = True        #el arbol queda balanceado\n",
        "\n",
        "\n",
        "  def rotacion_izq(self, nodo: \"Node\") -> \"Node\": #rotacion simple izquierda\n",
        "    if nodo is not None:\n",
        "        actual, padre = self.search_node(nodo)\n",
        "        if nodo == self.root:\n",
        "\n",
        "          self.root = nodo.right\n",
        "        aux = nodo.right\n",
        "        if aux.left is not None:\n",
        "          nodo.right = aux.left\n",
        "        else:\n",
        "          nodo.right = None\n",
        "        aux.left = nodo\n",
        "        if padre is not None:\n",
        "          if padre.metric > aux.metric:\n",
        "            padre.left = aux\n",
        "          else:\n",
        "            padre.right = aux\n",
        "\n",
        "        return aux\n",
        "\n",
        "  def rotacion_der(self, nodo: \"Node\") -> \"Node\": #rotacion simple derecha\n",
        "      if nodo is not None:\n",
        "        actual, padre = self.search_node(nodo)\n",
        "        if nodo == self.root:\n",
        "          self.root = nodo.left\n",
        "        aux = nodo.left\n",
        "        if aux.right is not None:\n",
        "          nodo.left = aux.right\n",
        "        else:\n",
        "          nodo.left = None\n",
        "        aux.right = nodo\n",
        "        if padre is not None:\n",
        "          if padre.metric > aux.metric:\n",
        "            padre.left = aux\n",
        "          else:\n",
        "            padre.right = aux\n",
        "\n",
        "        return aux\n",
        "\n",
        "  def doble_der_izq(self, nodo: \"Node\") -> \"Node\": #rotacion doble derecha izquierda\n",
        "    nodo.right = self.rotacion_der(nodo.right)\n",
        "    return self.rotacion_izq(nodo)\n",
        "\n",
        "  def doble_izq_der(self, nodo: \"Node\") -> \"Node\": #rotacion doble izquierda derecha\n",
        "    nodo.left = self.rotacion_izq(nodo.left)\n",
        "    return self.rotacion_der(nodo)\n",
        "\n",
        "\n",
        "  def search_node(self, elem: \"Node\"):   #buscar un nodo y su padre\n",
        "        actual, pad = self.root, None\n",
        "        while actual is not None:\n",
        "\n",
        "            if elem.metric == actual.metric and elem.metric2 == actual.metric2:\n",
        "                return actual, pad\n",
        "            else:\n",
        "                pad = actual\n",
        "                if elem.metric < actual.metric:\n",
        "                    actual = actual.left\n",
        "                elif elem.metric > actual.metric:\n",
        "                    actual = actual.right\n",
        "                elif elem.metric2 < actual.metric2:\n",
        "                  actual = actual.left\n",
        "                elif elem.metric2 > actual.metric2:\n",
        "                  actual = actual.right\n",
        "\n",
        "        return actual, pad\n",
        "\n",
        "  def insert(self, elem:\"Property\") -> bool:     # funcion insertar\n",
        "\n",
        "    to_insert = Node(elem)\n",
        "    print(\"se inserta = \", to_insert.metric)\n",
        "    if self.root is None:\n",
        "      self.root = to_insert\n",
        "      return True\n",
        "    else:\n",
        "      actual, padre = self.search_node(to_insert)\n",
        "\n",
        "      if actual is None:  # El elemento no existe\n",
        "        if to_insert.metric < padre.metric:\n",
        "          padre.left = to_insert\n",
        "\n",
        "        elif to_insert.metric > padre.metric:\n",
        "          padre.right = to_insert\n",
        "\n",
        "        elif to_insert.metric2 < padre.metric2:\n",
        "          padre.left = to_insert\n",
        "\n",
        "        elif to_insert.metric > padre.metric2:\n",
        "          padre.right = to_insert\n",
        "\n",
        "        nodos = []\n",
        "        nodos = self.verify_tree_balance(self.root)    #luego de insertar verifica que este balanceado y se toman los nodos desbalanceados\n",
        "\n",
        "        if nodos is not None and len(nodos)>0:\n",
        "          nodo_desbalanceado = nodos[0]    #se toma siempre el primero de los nodos desbalanceados (desde las hojas hasta la raiz)\n",
        "\n",
        "          self.balance_tree(nodo_desbalanceado)    #se hacen las rotaciones desde el nodo desbalanceado\n",
        "          self.update_heights(self.root)     #luego de hacer las rotaciones, se actualizan las alturas de los nodos\n",
        "\n",
        "\n",
        "        return True\n",
        "      return False\n",
        "\n",
        "  def find_sus(self, nodo):\n",
        "    while nodo.left is not None:\n",
        "        nodo = nodo.left\n",
        "    return nodo\n",
        "\n",
        "  def delete(self, nodo):\n",
        "\n",
        "    self.root = self._delete_recursive(self.root, nodo)\n",
        "\n",
        "    nodos = []\n",
        "    nodos = self.verify_tree_balance(self.root) #luego de eliminar verifica que este balanceado y se toman los nodos desbalanceados\n",
        "\n",
        "    if nodos is not None and len(nodos)>0:\n",
        "      nodo_desbalanceado = nodos[0]\n",
        "\n",
        "      self.balance_tree(nodo_desbalanceado)\n",
        "      self.update_heights(self.root)\n",
        "\n",
        "\n",
        "  def _delete_recursive(self, nodo, to_delete):  #Funcion en el que nos posicionamos los nodos hasta llegar al que toca eliminar\n",
        "    if nodo is None:\n",
        "        return nodo\n",
        "\n",
        "    if to_delete.metric < nodo.metric:                                  #en esta funcion se reconstruye el arbol, de tal forma que asignamos su hijo original si no es el que vamos a eliminar\n",
        "        nodo.left = self._delete_recursive(nodo.left, to_delete)\n",
        "    elif to_delete.metric > nodo.metric:\n",
        "        nodo.right = self._delete_recursive(nodo.right, to_delete)\n",
        "    else:                                                               #Una vez se encuentre, a su padre se le asgnará el nodo resultante de los casos de eliminacion\n",
        "        # Caso 1: Nodo sin hijos o con un solo hijo\n",
        "        if nodo.left is None:\n",
        "            return nodo.right\n",
        "        elif nodo.right is None:\n",
        "            return nodo.left\n",
        "\n",
        "        # Caso 2: Nodo con dos hijos\n",
        "        # Encontrar el sucesor (nodo más pequeño en el subárbol derecho)\n",
        "        temp = self.find_sus(nodo.right)\n",
        "        nodo.metric = temp.metric\n",
        "        nodo.info = temp.info\n",
        "\n",
        "        # Eliminar el sucesor\n",
        "        nodo.right = self._delete_recursive(nodo.right, nodo)\n",
        "\n",
        "    return nodo\n",
        "\n",
        "\n",
        "  def update_heights(self, root: \"Node\"):\n",
        "    if root is not None:\n",
        "          self.update_heights(root.left)\n",
        "          self.update_heights(root.right)\n",
        "          root.update_height()\n",
        "\n",
        "  def find_node_by_metric(self, metric):\n",
        "      nodes = []\n",
        "      self._find_nodes_recursive(self.root, metric, nodes)\n",
        "      return nodes\n",
        "\n",
        "  def _find_nodes_recursive(self, node, metric, nodes):\n",
        "      if node:\n",
        "          if node.metric == metric:\n",
        "              nodes.append(node)\n",
        "\n",
        "          self._find_nodes_recursive(node.left, metric, nodes)\n",
        "          self._find_nodes_recursive(node.right, metric, nodes)\n",
        "\n",
        "\n",
        "\n",
        "  def find_uncle(self, node: \"Node\", node2: None, node3: None, elem: \"Property\") -> \"Node\":\n",
        "      if node is not None:\n",
        "        if Node(elem).metric == node.metric:\n",
        "          if node3 is not None:\n",
        "            return node3\n",
        "          else:\n",
        "            return None\n",
        "        elif  Node(elem).metric < node.metric:\n",
        "          if node2 is not None:\n",
        "            if node.metric == node2.left.metric:\n",
        "              return self.find_uncle(node.left, node, node2.right, elem)\n",
        "            else:\n",
        "              return self.find_uncle(node.left, node, node2.left, elem)\n",
        "          else:\n",
        "            return self.find_uncle(node.left, node, None, elem)\n",
        "        else:\n",
        "          if node2 is not None:\n",
        "            if node.metric == node2.left.metric:\n",
        "              return self.find_uncle(node.right, node, node2.right, elem)\n",
        "            else:\n",
        "              return self.find_uncle(node.right, node, node2.left, elem)\n",
        "          return self.find_uncle(node.right, node, None, elem)\n",
        "      return None\n",
        "\n",
        "  def find_grandpa(self, node) -> \"Node\":\n",
        "    actual, pad = self.search_node(Node(node))\n",
        "    if actual is None:\n",
        "      print(\"El nodo no existe\")\n",
        "      return None\n",
        "    elif pad is None:\n",
        "      print(\"No tiene abuelo\")\n",
        "      return None\n",
        "    else:\n",
        "      actual2, grandpa = self.search_node(pad)\n",
        "      if grandpa is not None:\n",
        "        return grandpa\n",
        "      else:\n",
        "        print(\"No tiene abuelo\")\n",
        "        return None\n",
        "\n",
        "  def level_order(self):\n",
        "    Q1=QueueP(300)\n",
        "    Q1.add(self.root)\n",
        "    self.lvOrder(Q1)\n",
        "\n",
        "\n",
        "  def question(self, word):\n",
        "    r=input(f'Prefiere buscar {word} por: \\n 1.minimo su valor  \\n 2.maximo su valor  \\n')\n",
        "    r = int(r)\n",
        "    while r != 1 and r != 2:\n",
        "      r=input('opcion no valida \\n')\n",
        "      r = int(r)\n",
        "    return r\n",
        "\n",
        "\n",
        "  def multiple_search(self, c1=None, c2=None, c3=None):\n",
        "      cl = df.columns.tolist()\n",
        "      dic = {x: cl[x] for x in range(len(cl))}\n",
        "      lita={1: 'department', 2: 'city', 3: 'property_type', 4: 'operation_type'}\n",
        "      tita={5: 'latitude', 6: 'longitude', 7: 'surface_total', 8: 'surface_covered', 9: 'bedrooms', 10: 'bathrooms', 11: 'price'}\n",
        "      node, queue1 = self.root, QueueP(250)\n",
        "      queue1.add(node)\n",
        "      nodeList=[]\n",
        "\n",
        "      if c1 in lita:\n",
        "        w=input(f'Escriba el/la {lita[c1]} por cual desea filtrar')\n",
        "      else:\n",
        "        r = self.question(tita[c1])\n",
        "        w = input(f'Escriba el valor de {tita[c1]} por cual desea filtrar')\n",
        "        w = float(w)\n",
        "      while not queue1.is_empty():\n",
        "        node = queue1.pop()\n",
        "#__________________________________\n",
        "        if c1 == 1 and w == node.info.department:\n",
        "          nodeList.append(node)\n",
        "        if c1 == 2 and w == node.info.city:\n",
        "          nodeList.append(node)\n",
        "        if c1 == 3 and w == node.info.property_type:\n",
        "          nodeList.append(node)\n",
        "        if c1 == 4 and w == node.info.operation_type:\n",
        "          nodeList.append(node)\n",
        "        if c1 == 5:\n",
        "          if r == 1 and w <= node.info.latitude:\n",
        "            nodeList.append(node)\n",
        "          elif r == 2 and w >= node.info.latitude:\n",
        "            nodeList.append(node)\n",
        "        if c1 == 6:\n",
        "          if r == 1 and w <= node.info.longitud:\n",
        "            nodeList.append(node)\n",
        "          elif r == 2 and w >= node.info.longitud:\n",
        "            nodeList.append(node)\n",
        "        if c1 == 7:\n",
        "          if r == 1 and w <= node.info.surface_total:\n",
        "            nodeList.append(node)\n",
        "          elif r == 2 and w >= node.info.surface_total:\n",
        "            nodeList.append(node)\n",
        "        if c1 == 8:\n",
        "          if r == 1 and w <= node.info.surface_covered:\n",
        "            nodeList.append(node)\n",
        "          elif r == 2 and w >= node.info.surface_covered:\n",
        "            nodeList.append(node)\n",
        "        if c1 == 9:\n",
        "          if r == 1 and w <= node.info.bedrooms:\n",
        "            nodeList.append(node)\n",
        "          elif r == 2 and w >= node.info.bedrooms:\n",
        "            nodeList.append(node)\n",
        "        if c1 == 10 :\n",
        "          if r == 1 and w <= node.info.bathrooms:\n",
        "            nodeList.append(node)\n",
        "          elif r == 2 and w >= node.info.bathrooms:\n",
        "            nodeList.append(node)\n",
        "        if c1 == 11:\n",
        "          if r == 1 and w <= node.info.price:\n",
        "            nodeList.append(node)\n",
        "          elif r == 2 and w >= node.info.price:\n",
        "            nodeList.append(node)\n",
        "\n",
        "        if node.left:\n",
        "          queue1.add(node.left)\n",
        "        if node.right:\n",
        "          queue1.add(node.right)\n",
        " #__________________________________\n",
        "      k=c2\n",
        "      list2=[]\n",
        "      for i in range(2):\n",
        "        if k:\n",
        "          if k in lita:\n",
        "            w=input(f'Escriba el/la {lita[k]} por cual desea filtrar')\n",
        "          else:\n",
        "            r = self.question(tita[k])\n",
        "            w = input(f'Escriba el valor de {tita[k]} por cual desea filtrar')\n",
        "            w = float(w)\n",
        "          for node in nodeList:\n",
        "            if k == 1 and w == node.info.department:\n",
        "              list2.append(node)\n",
        "            if k == 2 and w == node.info.city:\n",
        "              list2.append(node)\n",
        "            if k == 3 and w == node.info.property_type:\n",
        "              list2.append(node)\n",
        "            if k == 4 and w == node.info.operation_type:\n",
        "              list2.append(node)\n",
        "            if k == 5:\n",
        "              if r == 1 and w <= node.info.latitude:\n",
        "                list2.append(node)\n",
        "              elif r == 2 and w >= node.info.latitude:\n",
        "                list2.append(node)\n",
        "            if k == 6:\n",
        "              if r == 1 and w <= node.info.longitud:\n",
        "                list2.append(node)\n",
        "              elif r == 2 and w >= node.info.longitud:\n",
        "                list2.append(node)\n",
        "            if k == 7:\n",
        "              if r == 1 and w <= node.info.surface_total:\n",
        "                list2.append(node)\n",
        "              elif r == 2 and w >= node.info.surface_total:\n",
        "                list2.append(node)\n",
        "            if k == 8 :\n",
        "              if r == 1 and w <= node.info.surface_covered:\n",
        "                list2.append(node)\n",
        "              elif r == 2 and w >= node.info.surface_covered:\n",
        "                list2.append(node)\n",
        "            if k == 9:\n",
        "              if r == 1 and w <= node.info.bedrooms:\n",
        "                list2.append(node)\n",
        "              elif r == 2 and w >= node.info.bedrooms:\n",
        "                list2.append(node)\n",
        "            if k == 10 :\n",
        "              if r == 1 and w <= node.info.bathrooms:\n",
        "                list2.append(node)\n",
        "              elif r == 2 and w >= node.info.bathrooms:\n",
        "                list2.append(node)\n",
        "            if k == 11:\n",
        "              if r == 1 and w <= node.info.price:\n",
        "                list2.append(node)\n",
        "              elif r == 2 and w >= node.info.price:\n",
        "                list2.append(node)\n",
        "          nodeList=copy.copy(list2)\n",
        "          list2=[]\n",
        "          k=c3\n",
        "        else:\n",
        "          i=i+1\n",
        "          k=c3\n",
        "      return nodeList\n",
        "\n",
        "  def mapper(self,nodes):\n",
        "    if nodes:\n",
        "      m = folium.Map(location=[6, -72], zoom_start=6, zoom_control=False)\n",
        "      if isinstance(nodes, list):\n",
        "        for u in nodes:\n",
        "        # Añade un marcador en una ubicación específica (por ejemplo, la Estatua de la Libertad)\n",
        "          folium.Marker([u.info.latitude, u.info.longitude], tooltip=u.info.title).add_to(m)\n",
        "      else:\n",
        "        folium.Marker([nodes.info.latitude, nodes.info.longitude], tooltip=nodes.info.title).add_to(m)\n",
        "      display(m)\n"
      ]
    },
    {
      "cell_type": "code",
      "execution_count": null,
      "metadata": {
        "id": "B7vNzvH6CwHS",
        "colab": {
          "base_uri": "https://localhost:8080/"
        },
        "outputId": "f992686e-90b7-41b0-8293-432f721b4701"
      },
      "outputs": [
        {
          "output_type": "stream",
          "name": "stdout",
          "text": [
            "se inserta =  3571428.5714285714\n",
            "se inserta =  2261904.761904762\n",
            "se inserta =  3855421.686746988\n",
            "se inserta =  13793.103448275862\n",
            "se inserta =  9821.42857142857\n",
            "se inserta =  3865979.381443299\n",
            "se inserta =  31428.571428571428\n",
            "se inserta =  4263565.891472869\n",
            "se inserta =  1750.0\n",
            "se inserta =  1187371.3109128345\n",
            "se inserta =  45370.85744345081\n",
            "se inserta =  18853.69532428356\n",
            "se inserta =  12500.0\n",
            "se inserta =  8163.265306122449\n",
            "se inserta =  2155172.4137931033\n",
            "se inserta =  3833333.3333333335\n",
            "se inserta =  1315789.4736842106\n",
            "se inserta =  40000.0\n",
            "se inserta =  19354.83870967742\n",
            "se inserta =  15625.0\n",
            "se inserta =  19298.245614035088\n",
            "se inserta =  3789473.6842105263\n",
            "se inserta =  2166666.6666666665\n",
            "se inserta =  7647.058823529412\n",
            "se inserta =  1000000.0\n",
            "se inserta =  9200.0\n",
            "se inserta =  1934523.8095238095\n",
            "se inserta =  1741293.5323383084\n",
            "se inserta =  2000000.0\n",
            "se inserta =  2166666.6666666665\n",
            "se inserta =  39600.0\n",
            "se inserta =  27239.150507848568\n",
            "se inserta =  3787878.787878788\n",
            "se inserta =  15333.333333333334\n",
            "se inserta =  146198.8304093567\n",
            "se inserta =  2368421.052631579\n",
            "se inserta =  16161.61616161616\n",
            "se inserta =  10000.0\n",
            "se inserta =  19767.441860465115\n",
            "se inserta =  666.6666666666666\n",
            "se inserta =  35002.32558139535\n",
            "se inserta =  1752767.5276752769\n",
            "se inserta =  2578947.3684210526\n",
            "se inserta =  3071428.5714285714\n",
            "se inserta =  1500000.0\n",
            "se inserta =  3597560.975609756\n",
            "se inserta =  4185185.185185185\n",
            "se inserta =  1142857.142857143\n",
            "se inserta =  2444444.4444444445\n",
            "se inserta =  3243243.243243243\n",
            "se inserta =  2500000.0\n",
            "se inserta =  16000.0\n",
            "se inserta =  39285.71428571428\n",
            "se inserta =  16470.58823529412\n",
            "se inserta =  6388888.888888889\n",
            "se inserta =  32710.280373831774\n",
            "se inserta =  14545.454545454546\n",
            "se inserta =  235408.7182401169\n",
            "se inserta =  24390.243902439026\n",
            "se inserta =  10285.714285714286\n",
            "se inserta =  8080808.080808081\n",
            "se inserta =  3580246.9135802467\n",
            "se inserta =  21025.641025641027\n",
            "se inserta =  3503401.3605442178\n",
            "se inserta =  2500000.0\n",
            "se inserta =  2195121.951219512\n",
            "se inserta =  29571.428571428572\n",
            "se inserta =  5147058.823529412\n",
            "se inserta =  2890625.0\n",
            "se inserta =  2812500.0\n",
            "se inserta =  11538.461538461539\n",
            "se inserta =  7388059.701492538\n",
            "se inserta =  24603.174603174604\n",
            "se inserta =  4052434.426229508\n",
            "se inserta =  16470.58823529412\n",
            "se inserta =  3855421.686746988\n",
            "se inserta =  4292452.8301886795\n",
            "se inserta =  4137931.0344827585\n",
            "se inserta =  4294478.527607362\n",
            "se inserta =  4216867.469879518\n",
            "se inserta =  42920.35398230088\n",
            "se inserta =  1872659.1760299625\n",
            "se inserta =  4566929.133858268\n",
            "se inserta =  4166666.6666666665\n",
            "se inserta =  14444.444444444445\n",
            "se inserta =  2750000.0\n",
            "se inserta =  12413.793103448275\n",
            "se inserta =  4753519.736842105\n",
            "se inserta =  17142.85714285714\n",
            "se inserta =  7428.571428571428\n",
            "se inserta =  54545.454545454544\n",
            "se inserta =  8222222.222222222\n",
            "se inserta =  122448.97959183673\n",
            "se inserta =  10648148.148148147\n",
            "se inserta =  8333333.333333333\n",
            "se inserta =  1666666.6666666667\n",
            "se inserta =  18000.0\n",
            "se inserta =  3372093.023255814\n",
            "se inserta =  12359.550561797752\n",
            "se inserta =  23584.905660377357\n",
            "se inserta =  12363.636363636364\n",
            "se inserta =  11428.57142857143\n",
            "se inserta =  41538.46153846154\n",
            "se inserta =  15384.615384615385\n",
            "se inserta =  20754.716981132075\n",
            "se inserta =  25044.708333333332\n",
            "se inserta =  4074074.074074074\n",
            "se inserta =  27586.206896551725\n",
            "se inserta =  16666.666666666668\n",
            "se inserta =  23333.333333333332\n",
            "se inserta =  15000.0\n",
            "se inserta =  930851.0638297872\n",
            "se inserta =  19642.85714285714\n",
            "se inserta =  2790697.6744186045\n",
            "se inserta =  18085.106382978724\n",
            "se inserta =  3064516.129032258\n",
            "se inserta =  9523.809523809523\n",
            "se inserta =  6435643.564356436\n",
            "se inserta =  17307.69230769231\n",
            "se inserta =  1920000.0\n",
            "se inserta =  5135135.135135135\n",
            "se inserta =  14264.0\n",
            "se inserta =  5416666.666666667\n",
            "se inserta =  28571.428571428572\n",
            "se inserta =  4954545.454545454\n",
            "se inserta =  4330708.661417323\n",
            "se inserta =  16694.117647058825\n",
            "se inserta =  6666666.666666667\n",
            "se inserta =  2000000.0\n",
            "se inserta =  4122137.4045801526\n",
            "se inserta =  5516431.924882629\n",
            "se inserta =  6562500.0\n",
            "se inserta =  4433333.333333333\n",
            "se inserta =  3733333.3333333335\n",
            "se inserta =  19230.76923076923\n",
            "se inserta =  5950413.223140496\n",
            "se inserta =  381619.93769470404\n",
            "se inserta =  3012820.512820513\n",
            "se inserta =  4578313.253012048\n",
            "se inserta =  28571.428571428572\n",
            "se inserta =  18115.942028985508\n",
            "se inserta =  13274.336283185841\n",
            "se inserta =  12000.0\n",
            "se inserta =  16498.983870967742\n",
            "se inserta =  18750.0\n",
            "se inserta =  10000.0\n",
            "se inserta =  3384615.3846153845\n",
            "se inserta =  5421686.746987952\n",
            "se inserta =  697368.4210526316\n",
            "se inserta =  1541284.4036697247\n",
            "raiz del arbol final:  1187371.3109128345\n"
          ]
        }
      ],
      "source": [
        "tree = Tree()\n",
        "for i in range(len(properties)):\n",
        "  tree.insert(properties[i])\n",
        "print(\"raiz del arbol final: \", tree.root.metric)\n",
        "\n",
        "tree.asignar_nivel()"
      ]
    },
    {
      "cell_type": "code",
      "execution_count": null,
      "metadata": {
        "id": "hrp4F3EAKMhS",
        "outputId": "40160c16-3806-45ca-f693-67c1dbad4631",
        "colab": {
          "base_uri": "https://localhost:8080/",
          "height": 869
        }
      },
      "outputs": [
        {
          "output_type": "execute_result",
          "data": {
            "image/svg+xml": "<?xml version=\"1.0\" encoding=\"UTF-8\" standalone=\"no\"?>\n<!DOCTYPE svg PUBLIC \"-//W3C//DTD SVG 1.1//EN\"\n \"http://www.w3.org/Graphics/SVG/1.1/DTD/svg11.dtd\">\n<!-- Generated by graphviz version 2.43.0 (0)\n -->\n<!-- Title: %3 Pages: 1 -->\n<svg width=\"7009pt\" height=\"620pt\"\n viewBox=\"0.00 0.00 7008.99 620.00\" xmlns=\"http://www.w3.org/2000/svg\" xmlns:xlink=\"http://www.w3.org/1999/xlink\">\n<g id=\"graph0\" class=\"graph\" transform=\"scale(1 1) rotate(0) translate(4 616)\">\n<title>%3</title>\n<polygon fill=\"white\" stroke=\"transparent\" points=\"-4,4 -4,-616 7004.99,-616 7004.99,4 -4,4\"/>\n<!-- VREI18080 -->\n<g id=\"node1\" class=\"node\">\n<title>VREI18080</title>\n<ellipse fill=\"none\" stroke=\"black\" cx=\"3854.3\" cy=\"-594\" rx=\"53.09\" ry=\"18\"/>\n<text text-anchor=\"middle\" x=\"3854.3\" y=\"-590.3\" font-family=\"Times,serif\" font-size=\"14.00\">VREI18080</text>\n</g>\n<!-- AREI&#45;16605 -->\n<g id=\"node2\" class=\"node\">\n<title>AREI&#45;16605</title>\n<ellipse fill=\"none\" stroke=\"black\" cx=\"2862.3\" cy=\"-522\" rx=\"55.79\" ry=\"18\"/>\n<text text-anchor=\"middle\" x=\"2862.3\" y=\"-518.3\" font-family=\"Times,serif\" font-size=\"14.00\">AREI&#45;16605</text>\n</g>\n<!-- VREI18080&#45;&gt;AREI&#45;16605 -->\n<g id=\"edge1\" class=\"edge\">\n<title>VREI18080&#45;&gt;AREI&#45;16605</title>\n<path fill=\"none\" stroke=\"black\" d=\"M3802.7,-589.36C3635.65,-577.57 3109.72,-540.46 2926.22,-527.51\"/>\n<polygon fill=\"black\" stroke=\"black\" points=\"2926.4,-524.02 2916.18,-526.8 2925.91,-531 2926.4,-524.02\"/>\n</g>\n<!-- VARE83401 -->\n<g id=\"node77\" class=\"node\">\n<title>VARE83401</title>\n<ellipse fill=\"none\" stroke=\"black\" cx=\"4185.3\" cy=\"-522\" rx=\"55.79\" ry=\"18\"/>\n<text text-anchor=\"middle\" x=\"4185.3\" y=\"-518.3\" font-family=\"Times,serif\" font-size=\"14.00\">VARE83401</text>\n</g>\n<!-- VREI18080&#45;&gt;VARE83401 -->\n<g id=\"edge76\" class=\"edge\">\n<title>VREI18080&#45;&gt;VARE83401</title>\n<path fill=\"none\" stroke=\"black\" d=\"M3898.25,-583.7C3957.93,-571.08 4064.59,-548.53 4129.74,-534.75\"/>\n<polygon fill=\"black\" stroke=\"black\" points=\"4130.77,-538.11 4139.83,-532.61 4129.32,-531.26 4130.77,-538.11\"/>\n</g>\n<!-- AINH2992 -->\n<g id=\"node3\" class=\"node\">\n<title>AINH2992</title>\n<ellipse fill=\"none\" stroke=\"black\" cx=\"1451.3\" cy=\"-450\" rx=\"50.09\" ry=\"18\"/>\n<text text-anchor=\"middle\" x=\"1451.3\" y=\"-446.3\" font-family=\"Times,serif\" font-size=\"14.00\">AINH2992</text>\n</g>\n<!-- AREI&#45;16605&#45;&gt;AINH2992 -->\n<g id=\"edge2\" class=\"edge\">\n<title>AREI&#45;16605&#45;&gt;AINH2992</title>\n<path fill=\"none\" stroke=\"black\" d=\"M2807.42,-518.28C2583.9,-507.19 1743.07,-465.47 1510.97,-453.96\"/>\n<polygon fill=\"black\" stroke=\"black\" points=\"1510.86,-450.45 1500.7,-453.45 1510.51,-457.44 1510.86,-450.45\"/>\n</g>\n<!-- ABKS1945 -->\n<g id=\"node42\" class=\"node\">\n<title>ABKS1945</title>\n<ellipse fill=\"none\" stroke=\"black\" cx=\"2862.3\" cy=\"-450\" rx=\"51.99\" ry=\"18\"/>\n<text text-anchor=\"middle\" x=\"2862.3\" y=\"-446.3\" font-family=\"Times,serif\" font-size=\"14.00\">ABKS1945</text>\n</g>\n<!-- AREI&#45;16605&#45;&gt;ABKS1945 -->\n<g id=\"edge41\" class=\"edge\">\n<title>AREI&#45;16605&#45;&gt;ABKS1945</title>\n<path fill=\"none\" stroke=\"black\" d=\"M2862.3,-503.7C2862.3,-495.98 2862.3,-486.71 2862.3,-478.11\"/>\n<polygon fill=\"black\" stroke=\"black\" points=\"2865.8,-478.1 2862.3,-468.1 2858.8,-478.1 2865.8,-478.1\"/>\n</g>\n<!-- AJMI5787 -->\n<g id=\"node4\" class=\"node\">\n<title>AJMI5787</title>\n<ellipse fill=\"none\" stroke=\"black\" cx=\"748.3\" cy=\"-378\" rx=\"49.29\" ry=\"18\"/>\n<text text-anchor=\"middle\" x=\"748.3\" y=\"-374.3\" font-family=\"Times,serif\" font-size=\"14.00\">AJMI5787</text>\n</g>\n<!-- AINH2992&#45;&gt;AJMI5787 -->\n<g id=\"edge3\" class=\"edge\">\n<title>AINH2992&#45;&gt;AJMI5787</title>\n<path fill=\"none\" stroke=\"black\" d=\"M1403.8,-444.27C1278.75,-431.82 940.71,-398.16 805.41,-384.69\"/>\n<polygon fill=\"black\" stroke=\"black\" points=\"805.55,-381.18 795.26,-383.68 804.86,-388.15 805.55,-381.18\"/>\n</g>\n<!-- AGRJ691 -->\n<g id=\"node23\" class=\"node\">\n<title>AGRJ691</title>\n<ellipse fill=\"none\" stroke=\"black\" cx=\"1451.3\" cy=\"-378\" rx=\"46.29\" ry=\"18\"/>\n<text text-anchor=\"middle\" x=\"1451.3\" y=\"-374.3\" font-family=\"Times,serif\" font-size=\"14.00\">AGRJ691</text>\n</g>\n<!-- AINH2992&#45;&gt;AGRJ691 -->\n<g id=\"edge22\" class=\"edge\">\n<title>AINH2992&#45;&gt;AGRJ691</title>\n<path fill=\"none\" stroke=\"black\" d=\"M1451.3,-431.7C1451.3,-423.98 1451.3,-414.71 1451.3,-406.11\"/>\n<polygon fill=\"black\" stroke=\"black\" points=\"1454.8,-406.1 1451.3,-396.1 1447.8,-406.1 1454.8,-406.1\"/>\n</g>\n<!-- ACLV&#45;6242 -->\n<g id=\"node5\" class=\"node\">\n<title>ACLV&#45;6242</title>\n<ellipse fill=\"none\" stroke=\"black\" cx=\"379.3\" cy=\"-306\" rx=\"53.89\" ry=\"18\"/>\n<text text-anchor=\"middle\" x=\"379.3\" y=\"-302.3\" font-family=\"Times,serif\" font-size=\"14.00\">ACLV&#45;6242</text>\n</g>\n<!-- AJMI5787&#45;&gt;ACLV&#45;6242 -->\n<g id=\"edge4\" class=\"edge\">\n<title>AJMI5787&#45;&gt;ACLV&#45;6242</title>\n<path fill=\"none\" stroke=\"black\" d=\"M705.61,-368.9C638.75,-356.22 509.33,-331.67 435.15,-317.59\"/>\n<polygon fill=\"black\" stroke=\"black\" points=\"435.53,-314.11 425.06,-315.68 434.23,-320.98 435.53,-314.11\"/>\n</g>\n<!-- ABNC94157 -->\n<g id=\"node15\" class=\"node\">\n<title>ABNC94157</title>\n<ellipse fill=\"none\" stroke=\"black\" cx=\"748.3\" cy=\"-306\" rx=\"57.39\" ry=\"18\"/>\n<text text-anchor=\"middle\" x=\"748.3\" y=\"-302.3\" font-family=\"Times,serif\" font-size=\"14.00\">ABNC94157</text>\n</g>\n<!-- AJMI5787&#45;&gt;ABNC94157 -->\n<g id=\"edge14\" class=\"edge\">\n<title>AJMI5787&#45;&gt;ABNC94157</title>\n<path fill=\"none\" stroke=\"black\" d=\"M748.3,-359.7C748.3,-351.98 748.3,-342.71 748.3,-334.11\"/>\n<polygon fill=\"black\" stroke=\"black\" points=\"751.8,-334.1 748.3,-324.1 744.8,-334.1 751.8,-334.1\"/>\n</g>\n<!-- AJMI6360 -->\n<g id=\"node6\" class=\"node\">\n<title>AJMI6360</title>\n<ellipse fill=\"none\" stroke=\"black\" cx=\"182.3\" cy=\"-234\" rx=\"49.29\" ry=\"18\"/>\n<text text-anchor=\"middle\" x=\"182.3\" y=\"-230.3\" font-family=\"Times,serif\" font-size=\"14.00\">AJMI6360</text>\n</g>\n<!-- ACLV&#45;6242&#45;&gt;AJMI6360 -->\n<g id=\"edge5\" class=\"edge\">\n<title>ACLV&#45;6242&#45;&gt;AJMI6360</title>\n<path fill=\"none\" stroke=\"black\" d=\"M343.62,-292.32C310.58,-280.58 261.35,-263.09 225.97,-250.52\"/>\n<polygon fill=\"black\" stroke=\"black\" points=\"226.98,-247.16 216.39,-247.11 224.64,-253.76 226.98,-247.16\"/>\n</g>\n<!-- AODH878 -->\n<g id=\"node10\" class=\"node\">\n<title>AODH878</title>\n<ellipse fill=\"none\" stroke=\"black\" cx=\"379.3\" cy=\"-234\" rx=\"49.29\" ry=\"18\"/>\n<text text-anchor=\"middle\" x=\"379.3\" y=\"-230.3\" font-family=\"Times,serif\" font-size=\"14.00\">AODH878</text>\n</g>\n<!-- ACLV&#45;6242&#45;&gt;AODH878 -->\n<g id=\"edge9\" class=\"edge\">\n<title>ACLV&#45;6242&#45;&gt;AODH878</title>\n<path fill=\"none\" stroke=\"black\" d=\"M379.3,-287.7C379.3,-279.98 379.3,-270.71 379.3,-262.11\"/>\n<polygon fill=\"black\" stroke=\"black\" points=\"382.8,-262.1 379.3,-252.1 375.8,-262.1 382.8,-262.1\"/>\n</g>\n<!-- AREI21161 -->\n<g id=\"node7\" class=\"node\">\n<title>AREI21161</title>\n<ellipse fill=\"none\" stroke=\"black\" cx=\"53.3\" cy=\"-162\" rx=\"53.09\" ry=\"18\"/>\n<text text-anchor=\"middle\" x=\"53.3\" y=\"-158.3\" font-family=\"Times,serif\" font-size=\"14.00\">AREI21161</text>\n</g>\n<!-- AJMI6360&#45;&gt;AREI21161 -->\n<g id=\"edge6\" class=\"edge\">\n<title>AJMI6360&#45;&gt;AREI21161</title>\n<path fill=\"none\" stroke=\"black\" d=\"M155.88,-218.67C136.62,-208.21 110.29,-193.93 89.13,-182.45\"/>\n<polygon fill=\"black\" stroke=\"black\" points=\"90.58,-179.25 80.12,-177.56 87.24,-185.4 90.58,-179.25\"/>\n</g>\n<!-- ABIE406028 -->\n<g id=\"node8\" class=\"node\">\n<title>ABIE406028</title>\n<ellipse fill=\"none\" stroke=\"black\" cx=\"182.3\" cy=\"-162\" rx=\"57.69\" ry=\"18\"/>\n<text text-anchor=\"middle\" x=\"182.3\" y=\"-158.3\" font-family=\"Times,serif\" font-size=\"14.00\">ABIE406028</text>\n</g>\n<!-- AJMI6360&#45;&gt;ABIE406028 -->\n<g id=\"edge7\" class=\"edge\">\n<title>AJMI6360&#45;&gt;ABIE406028</title>\n<path fill=\"none\" stroke=\"black\" d=\"M182.3,-215.7C182.3,-207.98 182.3,-198.71 182.3,-190.11\"/>\n<polygon fill=\"black\" stroke=\"black\" points=\"185.8,-190.1 182.3,-180.1 178.8,-190.1 185.8,-190.1\"/>\n</g>\n<!-- ASVC323 -->\n<g id=\"node9\" class=\"node\">\n<title>ASVC323</title>\n<ellipse fill=\"none\" stroke=\"black\" cx=\"182.3\" cy=\"-90\" rx=\"47.39\" ry=\"18\"/>\n<text text-anchor=\"middle\" x=\"182.3\" y=\"-86.3\" font-family=\"Times,serif\" font-size=\"14.00\">ASVC323</text>\n</g>\n<!-- ABIE406028&#45;&gt;ASVC323 -->\n<g id=\"edge8\" class=\"edge\">\n<title>ABIE406028&#45;&gt;ASVC323</title>\n<path fill=\"none\" stroke=\"black\" d=\"M182.3,-143.7C182.3,-135.98 182.3,-126.71 182.3,-118.11\"/>\n<polygon fill=\"black\" stroke=\"black\" points=\"185.8,-118.1 182.3,-108.1 178.8,-118.1 185.8,-118.1\"/>\n</g>\n<!-- ABNC89396 -->\n<g id=\"node11\" class=\"node\">\n<title>ABNC89396</title>\n<ellipse fill=\"none\" stroke=\"black\" cx=\"315.3\" cy=\"-162\" rx=\"57.39\" ry=\"18\"/>\n<text text-anchor=\"middle\" x=\"315.3\" y=\"-158.3\" font-family=\"Times,serif\" font-size=\"14.00\">ABNC89396</text>\n</g>\n<!-- AODH878&#45;&gt;ABNC89396 -->\n<g id=\"edge10\" class=\"edge\">\n<title>AODH878&#45;&gt;ABNC89396</title>\n<path fill=\"none\" stroke=\"black\" d=\"M364.45,-216.76C356.41,-207.97 346.32,-196.93 337.37,-187.14\"/>\n<polygon fill=\"black\" stroke=\"black\" points=\"339.83,-184.65 330.5,-179.63 334.67,-189.38 339.83,-184.65\"/>\n</g>\n<!-- ARPR8966 -->\n<g id=\"node13\" class=\"node\">\n<title>ARPR8966</title>\n<ellipse fill=\"none\" stroke=\"black\" cx=\"442.3\" cy=\"-162\" rx=\"51.19\" ry=\"18\"/>\n<text text-anchor=\"middle\" x=\"442.3\" y=\"-158.3\" font-family=\"Times,serif\" font-size=\"14.00\">ARPR8966</text>\n</g>\n<!-- AODH878&#45;&gt;ARPR8966 -->\n<g id=\"edge12\" class=\"edge\">\n<title>AODH878&#45;&gt;ARPR8966</title>\n<path fill=\"none\" stroke=\"black\" d=\"M393.91,-216.76C401.82,-207.97 411.76,-196.93 420.57,-187.14\"/>\n<polygon fill=\"black\" stroke=\"black\" points=\"423.24,-189.41 427.33,-179.63 418.03,-184.72 423.24,-189.41\"/>\n</g>\n<!-- AMTB2720 -->\n<g id=\"node12\" class=\"node\">\n<title>AMTB2720</title>\n<ellipse fill=\"none\" stroke=\"black\" cx=\"315.3\" cy=\"-90\" rx=\"53.89\" ry=\"18\"/>\n<text text-anchor=\"middle\" x=\"315.3\" y=\"-86.3\" font-family=\"Times,serif\" font-size=\"14.00\">AMTB2720</text>\n</g>\n<!-- ABNC89396&#45;&gt;AMTB2720 -->\n<g id=\"edge11\" class=\"edge\">\n<title>ABNC89396&#45;&gt;AMTB2720</title>\n<path fill=\"none\" stroke=\"black\" d=\"M315.3,-143.7C315.3,-135.98 315.3,-126.71 315.3,-118.11\"/>\n<polygon fill=\"black\" stroke=\"black\" points=\"318.8,-118.1 315.3,-108.1 311.8,-118.1 318.8,-118.1\"/>\n</g>\n<!-- AJRE5583 -->\n<g id=\"node14\" class=\"node\">\n<title>AJRE5583</title>\n<ellipse fill=\"none\" stroke=\"black\" cx=\"442.3\" cy=\"-90\" rx=\"49.29\" ry=\"18\"/>\n<text text-anchor=\"middle\" x=\"442.3\" y=\"-86.3\" font-family=\"Times,serif\" font-size=\"14.00\">AJRE5583</text>\n</g>\n<!-- ARPR8966&#45;&gt;AJRE5583 -->\n<g id=\"edge13\" class=\"edge\">\n<title>ARPR8966&#45;&gt;AJRE5583</title>\n<path fill=\"none\" stroke=\"black\" d=\"M442.3,-143.7C442.3,-135.98 442.3,-126.71 442.3,-118.11\"/>\n<polygon fill=\"black\" stroke=\"black\" points=\"445.8,-118.1 442.3,-108.1 438.8,-118.1 445.8,-118.1\"/>\n</g>\n<!-- ASUM461996 -->\n<g id=\"node16\" class=\"node\">\n<title>ASUM461996</title>\n<ellipse fill=\"none\" stroke=\"black\" cx=\"682.3\" cy=\"-234\" rx=\"63.09\" ry=\"18\"/>\n<text text-anchor=\"middle\" x=\"682.3\" y=\"-230.3\" font-family=\"Times,serif\" font-size=\"14.00\">ASUM461996</text>\n</g>\n<!-- ABNC94157&#45;&gt;ASUM461996 -->\n<g id=\"edge15\" class=\"edge\">\n<title>ABNC94157&#45;&gt;ASUM461996</title>\n<path fill=\"none\" stroke=\"black\" d=\"M732.65,-288.41C724.35,-279.61 714,-268.63 704.85,-258.92\"/>\n<polygon fill=\"black\" stroke=\"black\" points=\"707.23,-256.34 697.82,-251.47 702.14,-261.15 707.23,-256.34\"/>\n</g>\n<!-- ARPR7807 -->\n<g id=\"node19\" class=\"node\">\n<title>ARPR7807</title>\n<ellipse fill=\"none\" stroke=\"black\" cx=\"814.3\" cy=\"-234\" rx=\"51.19\" ry=\"18\"/>\n<text text-anchor=\"middle\" x=\"814.3\" y=\"-230.3\" font-family=\"Times,serif\" font-size=\"14.00\">ARPR7807</text>\n</g>\n<!-- ABNC94157&#45;&gt;ARPR7807 -->\n<g id=\"edge18\" class=\"edge\">\n<title>ABNC94157&#45;&gt;ARPR7807</title>\n<path fill=\"none\" stroke=\"black\" d=\"M763.94,-288.41C772.24,-279.61 782.59,-268.63 791.74,-258.92\"/>\n<polygon fill=\"black\" stroke=\"black\" points=\"794.45,-261.15 798.77,-251.47 789.36,-256.34 794.45,-261.15\"/>\n</g>\n<!-- AMTB2724 -->\n<g id=\"node17\" class=\"node\">\n<title>AMTB2724</title>\n<ellipse fill=\"none\" stroke=\"black\" cx=\"565.3\" cy=\"-162\" rx=\"53.89\" ry=\"18\"/>\n<text text-anchor=\"middle\" x=\"565.3\" y=\"-158.3\" font-family=\"Times,serif\" font-size=\"14.00\">AMTB2724</text>\n</g>\n<!-- ASUM461996&#45;&gt;AMTB2724 -->\n<g id=\"edge16\" class=\"edge\">\n<title>ASUM461996&#45;&gt;AMTB2724</title>\n<path fill=\"none\" stroke=\"black\" d=\"M656.33,-217.46C639.44,-207.36 617.23,-194.07 598.99,-183.16\"/>\n<polygon fill=\"black\" stroke=\"black\" points=\"600.76,-180.14 590.39,-178.01 597.17,-186.15 600.76,-180.14\"/>\n</g>\n<!-- ARYG8539 -->\n<g id=\"node18\" class=\"node\">\n<title>ARYG8539</title>\n<ellipse fill=\"none\" stroke=\"black\" cx=\"690.3\" cy=\"-162\" rx=\"52.79\" ry=\"18\"/>\n<text text-anchor=\"middle\" x=\"690.3\" y=\"-158.3\" font-family=\"Times,serif\" font-size=\"14.00\">ARYG8539</text>\n</g>\n<!-- ASUM461996&#45;&gt;ARYG8539 -->\n<g id=\"edge17\" class=\"edge\">\n<title>ASUM461996&#45;&gt;ARYG8539</title>\n<path fill=\"none\" stroke=\"black\" d=\"M684.27,-215.7C685.15,-207.98 686.21,-198.71 687.2,-190.11\"/>\n<polygon fill=\"black\" stroke=\"black\" points=\"690.68,-190.44 688.34,-180.1 683.73,-189.64 690.68,-190.44\"/>\n</g>\n<!-- ALFX444 -->\n<g id=\"node20\" class=\"node\">\n<title>ALFX444</title>\n<ellipse fill=\"none\" stroke=\"black\" cx=\"807.3\" cy=\"-162\" rx=\"46.59\" ry=\"18\"/>\n<text text-anchor=\"middle\" x=\"807.3\" y=\"-158.3\" font-family=\"Times,serif\" font-size=\"14.00\">ALFX444</text>\n</g>\n<!-- ARPR7807&#45;&gt;ALFX444 -->\n<g id=\"edge19\" class=\"edge\">\n<title>ARPR7807&#45;&gt;ALFX444</title>\n<path fill=\"none\" stroke=\"black\" d=\"M812.56,-215.7C811.79,-207.98 810.87,-198.71 810.01,-190.11\"/>\n<polygon fill=\"black\" stroke=\"black\" points=\"813.48,-189.71 809.01,-180.1 806.52,-190.4 813.48,-189.71\"/>\n</g>\n<!-- AMER198907 -->\n<g id=\"node21\" class=\"node\">\n<title>AMER198907</title>\n<ellipse fill=\"none\" stroke=\"black\" cx=\"935.3\" cy=\"-162\" rx=\"63.09\" ry=\"18\"/>\n<text text-anchor=\"middle\" x=\"935.3\" y=\"-158.3\" font-family=\"Times,serif\" font-size=\"14.00\">AMER198907</text>\n</g>\n<!-- ARPR7807&#45;&gt;AMER198907 -->\n<g id=\"edge20\" class=\"edge\">\n<title>ARPR7807&#45;&gt;AMER198907</title>\n<path fill=\"none\" stroke=\"black\" d=\"M839.66,-218.33C857.13,-208.22 880.58,-194.65 899.89,-183.49\"/>\n<polygon fill=\"black\" stroke=\"black\" points=\"901.8,-186.42 908.71,-178.38 898.3,-180.36 901.8,-186.42\"/>\n</g>\n<!-- AVLZ3037 -->\n<g id=\"node22\" class=\"node\">\n<title>AVLZ3037</title>\n<ellipse fill=\"none\" stroke=\"black\" cx=\"935.3\" cy=\"-90\" rx=\"50.89\" ry=\"18\"/>\n<text text-anchor=\"middle\" x=\"935.3\" y=\"-86.3\" font-family=\"Times,serif\" font-size=\"14.00\">AVLZ3037</text>\n</g>\n<!-- AMER198907&#45;&gt;AVLZ3037 -->\n<g id=\"edge21\" class=\"edge\">\n<title>AMER198907&#45;&gt;AVLZ3037</title>\n<path fill=\"none\" stroke=\"black\" d=\"M935.3,-143.7C935.3,-135.98 935.3,-126.71 935.3,-118.11\"/>\n<polygon fill=\"black\" stroke=\"black\" points=\"938.8,-118.1 935.3,-108.1 931.8,-118.1 938.8,-118.1\"/>\n</g>\n<!-- AADC41792 -->\n<g id=\"node24\" class=\"node\">\n<title>AADC41792</title>\n<ellipse fill=\"none\" stroke=\"black\" cx=\"1267.3\" cy=\"-306\" rx=\"57.69\" ry=\"18\"/>\n<text text-anchor=\"middle\" x=\"1267.3\" y=\"-302.3\" font-family=\"Times,serif\" font-size=\"14.00\">AADC41792</text>\n</g>\n<!-- AGRJ691&#45;&gt;AADC41792 -->\n<g id=\"edge23\" class=\"edge\">\n<title>AGRJ691&#45;&gt;AADC41792</title>\n<path fill=\"none\" stroke=\"black\" d=\"M1419.24,-364.81C1389.54,-353.51 1345.06,-336.58 1311.89,-323.97\"/>\n<polygon fill=\"black\" stroke=\"black\" points=\"1313.02,-320.65 1302.43,-320.36 1310.53,-327.19 1313.02,-320.65\"/>\n</g>\n<!-- AADN758870 -->\n<g id=\"node30\" class=\"node\">\n<title>AADN758870</title>\n<ellipse fill=\"none\" stroke=\"black\" cx=\"1513.3\" cy=\"-306\" rx=\"62.29\" ry=\"18\"/>\n<text text-anchor=\"middle\" x=\"1513.3\" y=\"-302.3\" font-family=\"Times,serif\" font-size=\"14.00\">AADN758870</text>\n</g>\n<!-- AGRJ691&#45;&gt;AADN758870 -->\n<g id=\"edge29\" class=\"edge\">\n<title>AGRJ691&#45;&gt;AADN758870</title>\n<path fill=\"none\" stroke=\"black\" d=\"M1465.68,-360.76C1473.47,-351.97 1483.24,-340.93 1491.91,-331.14\"/>\n<polygon fill=\"black\" stroke=\"black\" points=\"1494.55,-333.44 1498.56,-323.63 1489.31,-328.8 1494.55,-333.44\"/>\n</g>\n<!-- ARPR8947 -->\n<g id=\"node25\" class=\"node\">\n<title>ARPR8947</title>\n<ellipse fill=\"none\" stroke=\"black\" cx=\"1076.3\" cy=\"-234\" rx=\"51.19\" ry=\"18\"/>\n<text text-anchor=\"middle\" x=\"1076.3\" y=\"-230.3\" font-family=\"Times,serif\" font-size=\"14.00\">ARPR8947</text>\n</g>\n<!-- AADC41792&#45;&gt;ARPR8947 -->\n<g id=\"edge24\" class=\"edge\">\n<title>AADC41792&#45;&gt;ARPR8947</title>\n<path fill=\"none\" stroke=\"black\" d=\"M1231.37,-291.83C1199.8,-280.26 1153.76,-263.39 1120.05,-251.04\"/>\n<polygon fill=\"black\" stroke=\"black\" points=\"1121.05,-247.67 1110.45,-247.52 1118.64,-254.25 1121.05,-247.67\"/>\n</g>\n<!-- AABW440 -->\n<g id=\"node27\" class=\"node\">\n<title>AABW440</title>\n<ellipse fill=\"none\" stroke=\"black\" cx=\"1267.3\" cy=\"-234\" rx=\"51.19\" ry=\"18\"/>\n<text text-anchor=\"middle\" x=\"1267.3\" y=\"-230.3\" font-family=\"Times,serif\" font-size=\"14.00\">AABW440</text>\n</g>\n<!-- AADC41792&#45;&gt;AABW440 -->\n<g id=\"edge26\" class=\"edge\">\n<title>AADC41792&#45;&gt;AABW440</title>\n<path fill=\"none\" stroke=\"black\" d=\"M1267.3,-287.7C1267.3,-279.98 1267.3,-270.71 1267.3,-262.11\"/>\n<polygon fill=\"black\" stroke=\"black\" points=\"1270.8,-262.1 1267.3,-252.1 1263.8,-262.1 1270.8,-262.1\"/>\n</g>\n<!-- AARE67336 -->\n<g id=\"node26\" class=\"node\">\n<title>AARE67336</title>\n<ellipse fill=\"none\" stroke=\"black\" cx=\"1073.3\" cy=\"-162\" rx=\"56.59\" ry=\"18\"/>\n<text text-anchor=\"middle\" x=\"1073.3\" y=\"-158.3\" font-family=\"Times,serif\" font-size=\"14.00\">AARE67336</text>\n</g>\n<!-- ARPR8947&#45;&gt;AARE67336 -->\n<g id=\"edge25\" class=\"edge\">\n<title>ARPR8947&#45;&gt;AARE67336</title>\n<path fill=\"none\" stroke=\"black\" d=\"M1075.55,-215.7C1075.22,-207.98 1074.83,-198.71 1074.46,-190.11\"/>\n<polygon fill=\"black\" stroke=\"black\" points=\"1077.95,-189.95 1074.03,-180.1 1070.96,-190.25 1077.95,-189.95\"/>\n</g>\n<!-- AOCH1738 -->\n<g id=\"node28\" class=\"node\">\n<title>AOCH1738</title>\n<ellipse fill=\"none\" stroke=\"black\" cx=\"1201.3\" cy=\"-162\" rx=\"53.09\" ry=\"18\"/>\n<text text-anchor=\"middle\" x=\"1201.3\" y=\"-158.3\" font-family=\"Times,serif\" font-size=\"14.00\">AOCH1738</text>\n</g>\n<!-- AABW440&#45;&gt;AOCH1738 -->\n<g id=\"edge27\" class=\"edge\">\n<title>AABW440&#45;&gt;AOCH1738</title>\n<path fill=\"none\" stroke=\"black\" d=\"M1251.99,-216.76C1243.69,-207.97 1233.28,-196.93 1224.06,-187.14\"/>\n<polygon fill=\"black\" stroke=\"black\" points=\"1226.38,-184.51 1216.98,-179.63 1221.29,-189.31 1226.38,-184.51\"/>\n</g>\n<!-- AADC&#45;41574 -->\n<g id=\"node29\" class=\"node\">\n<title>AADC&#45;41574</title>\n<ellipse fill=\"none\" stroke=\"black\" cx=\"1333.3\" cy=\"-162\" rx=\"60.39\" ry=\"18\"/>\n<text text-anchor=\"middle\" x=\"1333.3\" y=\"-158.3\" font-family=\"Times,serif\" font-size=\"14.00\">AADC&#45;41574</text>\n</g>\n<!-- AABW440&#45;&gt;AADC&#45;41574 -->\n<g id=\"edge28\" class=\"edge\">\n<title>AABW440&#45;&gt;AADC&#45;41574</title>\n<path fill=\"none\" stroke=\"black\" d=\"M1282.6,-216.76C1290.9,-207.97 1301.31,-196.93 1310.53,-187.14\"/>\n<polygon fill=\"black\" stroke=\"black\" points=\"1313.3,-189.31 1317.61,-179.63 1308.21,-184.51 1313.3,-189.31\"/>\n</g>\n<!-- ASUM461761 -->\n<g id=\"node31\" class=\"node\">\n<title>ASUM461761</title>\n<ellipse fill=\"none\" stroke=\"black\" cx=\"1513.3\" cy=\"-234\" rx=\"63.09\" ry=\"18\"/>\n<text text-anchor=\"middle\" x=\"1513.3\" y=\"-230.3\" font-family=\"Times,serif\" font-size=\"14.00\">ASUM461761</text>\n</g>\n<!-- AADN758870&#45;&gt;ASUM461761 -->\n<g id=\"edge30\" class=\"edge\">\n<title>AADN758870&#45;&gt;ASUM461761</title>\n<path fill=\"none\" stroke=\"black\" d=\"M1513.3,-287.7C1513.3,-279.98 1513.3,-270.71 1513.3,-262.11\"/>\n<polygon fill=\"black\" stroke=\"black\" points=\"1516.8,-262.1 1513.3,-252.1 1509.8,-262.1 1516.8,-262.1\"/>\n</g>\n<!-- AOCH1750 -->\n<g id=\"node37\" class=\"node\">\n<title>AOCH1750</title>\n<ellipse fill=\"none\" stroke=\"black\" cx=\"1703.3\" cy=\"-234\" rx=\"53.09\" ry=\"18\"/>\n<text text-anchor=\"middle\" x=\"1703.3\" y=\"-230.3\" font-family=\"Times,serif\" font-size=\"14.00\">AOCH1750</text>\n</g>\n<!-- AADN758870&#45;&gt;AOCH1750 -->\n<g id=\"edge36\" class=\"edge\">\n<title>AADN758870&#45;&gt;AOCH1750</title>\n<path fill=\"none\" stroke=\"black\" d=\"M1550.38,-291.34C1581.54,-279.86 1626.14,-263.43 1659.14,-251.27\"/>\n<polygon fill=\"black\" stroke=\"black\" points=\"1660.37,-254.54 1668.55,-247.8 1657.95,-247.98 1660.37,-254.54\"/>\n</g>\n<!-- ACJE672 -->\n<g id=\"node32\" class=\"node\">\n<title>ACJE672</title>\n<ellipse fill=\"none\" stroke=\"black\" cx=\"1456.3\" cy=\"-162\" rx=\"44.69\" ry=\"18\"/>\n<text text-anchor=\"middle\" x=\"1456.3\" y=\"-158.3\" font-family=\"Times,serif\" font-size=\"14.00\">ACJE672</text>\n</g>\n<!-- ASUM461761&#45;&gt;ACJE672 -->\n<g id=\"edge31\" class=\"edge\">\n<title>ASUM461761&#45;&gt;ACJE672</title>\n<path fill=\"none\" stroke=\"black\" d=\"M1499.79,-216.41C1492.76,-207.78 1484.03,-197.06 1476.24,-187.5\"/>\n<polygon fill=\"black\" stroke=\"black\" points=\"1478.73,-185.01 1469.71,-179.47 1473.31,-189.43 1478.73,-185.01\"/>\n</g>\n<!-- ABNC92431 -->\n<g id=\"node34\" class=\"node\">\n<title>ABNC92431</title>\n<ellipse fill=\"none\" stroke=\"black\" cx=\"1576.3\" cy=\"-162\" rx=\"57.39\" ry=\"18\"/>\n<text text-anchor=\"middle\" x=\"1576.3\" y=\"-158.3\" font-family=\"Times,serif\" font-size=\"14.00\">ABNC92431</text>\n</g>\n<!-- ASUM461761&#45;&gt;ABNC92431 -->\n<g id=\"edge33\" class=\"edge\">\n<title>ASUM461761&#45;&gt;ABNC92431</title>\n<path fill=\"none\" stroke=\"black\" d=\"M1528.23,-216.41C1536.15,-207.61 1546.03,-196.63 1554.77,-186.92\"/>\n<polygon fill=\"black\" stroke=\"black\" points=\"1557.38,-189.24 1561.47,-179.47 1552.18,-184.56 1557.38,-189.24\"/>\n</g>\n<!-- AVLZ&#45;2608 -->\n<g id=\"node33\" class=\"node\">\n<title>AVLZ&#45;2608</title>\n<ellipse fill=\"none\" stroke=\"black\" cx=\"1362.3\" cy=\"-90\" rx=\"53.89\" ry=\"18\"/>\n<text text-anchor=\"middle\" x=\"1362.3\" y=\"-86.3\" font-family=\"Times,serif\" font-size=\"14.00\">AVLZ&#45;2608</text>\n</g>\n<!-- ACJE672&#45;&gt;AVLZ&#45;2608 -->\n<g id=\"edge32\" class=\"edge\">\n<title>ACJE672&#45;&gt;AVLZ&#45;2608</title>\n<path fill=\"none\" stroke=\"black\" d=\"M1435.9,-145.81C1422.9,-136.13 1405.85,-123.43 1391.44,-112.7\"/>\n<polygon fill=\"black\" stroke=\"black\" points=\"1393.41,-109.81 1383.3,-106.64 1389.23,-115.42 1393.41,-109.81\"/>\n</g>\n<!-- ABNC79776 -->\n<g id=\"node35\" class=\"node\">\n<title>ABNC79776</title>\n<ellipse fill=\"none\" stroke=\"black\" cx=\"1491.3\" cy=\"-90\" rx=\"57.39\" ry=\"18\"/>\n<text text-anchor=\"middle\" x=\"1491.3\" y=\"-86.3\" font-family=\"Times,serif\" font-size=\"14.00\">ABNC79776</text>\n</g>\n<!-- ABNC92431&#45;&gt;ABNC79776 -->\n<g id=\"edge34\" class=\"edge\">\n<title>ABNC92431&#45;&gt;ABNC79776</title>\n<path fill=\"none\" stroke=\"black\" d=\"M1556.58,-144.76C1545.32,-135.49 1531.02,-123.71 1518.68,-113.55\"/>\n<polygon fill=\"black\" stroke=\"black\" points=\"1520.85,-110.8 1510.9,-107.15 1516.4,-116.21 1520.85,-110.8\"/>\n</g>\n<!-- AFNC&#45;100424 -->\n<g id=\"node36\" class=\"node\">\n<title>AFNC&#45;100424</title>\n<ellipse fill=\"none\" stroke=\"black\" cx=\"1630.3\" cy=\"-90\" rx=\"63.89\" ry=\"18\"/>\n<text text-anchor=\"middle\" x=\"1630.3\" y=\"-86.3\" font-family=\"Times,serif\" font-size=\"14.00\">AFNC&#45;100424</text>\n</g>\n<!-- ABNC92431&#45;&gt;AFNC&#45;100424 -->\n<g id=\"edge35\" class=\"edge\">\n<title>ABNC92431&#45;&gt;AFNC&#45;100424</title>\n<path fill=\"none\" stroke=\"black\" d=\"M1589.09,-144.41C1595.65,-135.91 1603.78,-125.37 1611.08,-115.91\"/>\n<polygon fill=\"black\" stroke=\"black\" points=\"1613.88,-118.01 1617.21,-107.96 1608.34,-113.74 1613.88,-118.01\"/>\n</g>\n<!-- ARAZ1045 -->\n<g id=\"node38\" class=\"node\">\n<title>ARAZ1045</title>\n<ellipse fill=\"none\" stroke=\"black\" cx=\"1703.3\" cy=\"-162\" rx=\"51.99\" ry=\"18\"/>\n<text text-anchor=\"middle\" x=\"1703.3\" y=\"-158.3\" font-family=\"Times,serif\" font-size=\"14.00\">ARAZ1045</text>\n</g>\n<!-- AOCH1750&#45;&gt;ARAZ1045 -->\n<g id=\"edge37\" class=\"edge\">\n<title>AOCH1750&#45;&gt;ARAZ1045</title>\n<path fill=\"none\" stroke=\"black\" d=\"M1703.3,-215.7C1703.3,-207.98 1703.3,-198.71 1703.3,-190.11\"/>\n<polygon fill=\"black\" stroke=\"black\" points=\"1706.8,-190.1 1703.3,-180.1 1699.8,-190.1 1706.8,-190.1\"/>\n</g>\n<!-- ARPR9157 -->\n<g id=\"node39\" class=\"node\">\n<title>ARPR9157</title>\n<ellipse fill=\"none\" stroke=\"black\" cx=\"1824.3\" cy=\"-162\" rx=\"51.19\" ry=\"18\"/>\n<text text-anchor=\"middle\" x=\"1824.3\" y=\"-158.3\" font-family=\"Times,serif\" font-size=\"14.00\">ARPR9157</text>\n</g>\n<!-- AOCH1750&#45;&gt;ARPR9157 -->\n<g id=\"edge38\" class=\"edge\">\n<title>AOCH1750&#45;&gt;ARPR9157</title>\n<path fill=\"none\" stroke=\"black\" d=\"M1728.96,-218.15C1746.68,-207.9 1770.46,-194.14 1789.84,-182.93\"/>\n<polygon fill=\"black\" stroke=\"black\" points=\"1791.77,-185.86 1798.67,-177.82 1788.26,-179.8 1791.77,-185.86\"/>\n</g>\n<!-- AADC41940 -->\n<g id=\"node40\" class=\"node\">\n<title>AADC41940</title>\n<ellipse fill=\"none\" stroke=\"black\" cx=\"1770.3\" cy=\"-90\" rx=\"57.69\" ry=\"18\"/>\n<text text-anchor=\"middle\" x=\"1770.3\" y=\"-86.3\" font-family=\"Times,serif\" font-size=\"14.00\">AADC41940</text>\n</g>\n<!-- ARPR9157&#45;&gt;AADC41940 -->\n<g id=\"edge39\" class=\"edge\">\n<title>ARPR9157&#45;&gt;AADC41940</title>\n<path fill=\"none\" stroke=\"black\" d=\"M1811.5,-144.41C1804.94,-135.91 1796.81,-125.37 1789.51,-115.91\"/>\n<polygon fill=\"black\" stroke=\"black\" points=\"1792.26,-113.74 1783.38,-107.96 1786.71,-118.01 1792.26,-113.74\"/>\n</g>\n<!-- AVLZ2444 -->\n<g id=\"node41\" class=\"node\">\n<title>AVLZ2444</title>\n<ellipse fill=\"none\" stroke=\"black\" cx=\"1897.3\" cy=\"-90\" rx=\"50.89\" ry=\"18\"/>\n<text text-anchor=\"middle\" x=\"1897.3\" y=\"-86.3\" font-family=\"Times,serif\" font-size=\"14.00\">AVLZ2444</text>\n</g>\n<!-- ARPR9157&#45;&gt;AVLZ2444 -->\n<g id=\"edge40\" class=\"edge\">\n<title>ARPR9157&#45;&gt;AVLZ2444</title>\n<path fill=\"none\" stroke=\"black\" d=\"M1841.23,-144.76C1850.72,-135.66 1862.71,-124.16 1873.17,-114.13\"/>\n<polygon fill=\"black\" stroke=\"black\" points=\"1875.66,-116.59 1880.46,-107.15 1870.82,-111.54 1875.66,-116.59\"/>\n</g>\n<!-- AFNC&#45;100629 -->\n<g id=\"node43\" class=\"node\">\n<title>AFNC&#45;100629</title>\n<ellipse fill=\"none\" stroke=\"black\" cx=\"2524.3\" cy=\"-378\" rx=\"63.89\" ry=\"18\"/>\n<text text-anchor=\"middle\" x=\"2524.3\" y=\"-374.3\" font-family=\"Times,serif\" font-size=\"14.00\">AFNC&#45;100629</text>\n</g>\n<!-- ABKS1945&#45;&gt;AFNC&#45;100629 -->\n<g id=\"edge42\" class=\"edge\">\n<title>ABKS1945&#45;&gt;AFNC&#45;100629</title>\n<path fill=\"none\" stroke=\"black\" d=\"M2818.8,-439.99C2759.02,-427.61 2651.24,-405.29 2583.96,-391.36\"/>\n<polygon fill=\"black\" stroke=\"black\" points=\"2584.43,-387.88 2573.93,-389.28 2583.01,-394.74 2584.43,-387.88\"/>\n</g>\n<!-- VAYH3595 -->\n<g id=\"node60\" class=\"node\">\n<title>VAYH3595</title>\n<ellipse fill=\"none\" stroke=\"black\" cx=\"3068.3\" cy=\"-378\" rx=\"51.99\" ry=\"18\"/>\n<text text-anchor=\"middle\" x=\"3068.3\" y=\"-374.3\" font-family=\"Times,serif\" font-size=\"14.00\">VAYH3595</text>\n</g>\n<!-- ABKS1945&#45;&gt;VAYH3595 -->\n<g id=\"edge59\" class=\"edge\">\n<title>ABKS1945&#45;&gt;VAYH3595</title>\n<path fill=\"none\" stroke=\"black\" d=\"M2898.18,-436.81C2932.78,-425.05 2985.28,-407.21 3022.8,-394.46\"/>\n<polygon fill=\"black\" stroke=\"black\" points=\"3024.14,-397.7 3032.48,-391.17 3021.88,-391.07 3024.14,-397.7\"/>\n</g>\n<!-- ADUR4406 -->\n<g id=\"node44\" class=\"node\">\n<title>ADUR4406</title>\n<ellipse fill=\"none\" stroke=\"black\" cx=\"2272.3\" cy=\"-306\" rx=\"53.09\" ry=\"18\"/>\n<text text-anchor=\"middle\" x=\"2272.3\" y=\"-302.3\" font-family=\"Times,serif\" font-size=\"14.00\">ADUR4406</text>\n</g>\n<!-- AFNC&#45;100629&#45;&gt;ADUR4406 -->\n<g id=\"edge43\" class=\"edge\">\n<title>AFNC&#45;100629&#45;&gt;ADUR4406</title>\n<path fill=\"none\" stroke=\"black\" d=\"M2480.4,-364.81C2436.26,-352.55 2368.3,-333.67 2322.15,-320.85\"/>\n<polygon fill=\"black\" stroke=\"black\" points=\"2322.94,-317.43 2312.36,-318.13 2321.06,-324.18 2322.94,-317.43\"/>\n</g>\n<!-- VMUR2690 -->\n<g id=\"node53\" class=\"node\">\n<title>VMUR2690</title>\n<ellipse fill=\"none\" stroke=\"black\" cx=\"2524.3\" cy=\"-306\" rx=\"55.49\" ry=\"18\"/>\n<text text-anchor=\"middle\" x=\"2524.3\" y=\"-302.3\" font-family=\"Times,serif\" font-size=\"14.00\">VMUR2690</text>\n</g>\n<!-- AFNC&#45;100629&#45;&gt;VMUR2690 -->\n<g id=\"edge52\" class=\"edge\">\n<title>AFNC&#45;100629&#45;&gt;VMUR2690</title>\n<path fill=\"none\" stroke=\"black\" d=\"M2524.3,-359.7C2524.3,-351.98 2524.3,-342.71 2524.3,-334.11\"/>\n<polygon fill=\"black\" stroke=\"black\" points=\"2527.8,-334.1 2524.3,-324.1 2520.8,-334.1 2527.8,-334.1\"/>\n</g>\n<!-- AADN758180 -->\n<g id=\"node45\" class=\"node\">\n<title>AADN758180</title>\n<ellipse fill=\"none\" stroke=\"black\" cx=\"2080.3\" cy=\"-234\" rx=\"62.29\" ry=\"18\"/>\n<text text-anchor=\"middle\" x=\"2080.3\" y=\"-230.3\" font-family=\"Times,serif\" font-size=\"14.00\">AADN758180</text>\n</g>\n<!-- ADUR4406&#45;&gt;AADN758180 -->\n<g id=\"edge44\" class=\"edge\">\n<title>ADUR4406&#45;&gt;AADN758180</title>\n<path fill=\"none\" stroke=\"black\" d=\"M2237.53,-292.32C2206.64,-281.06 2161.25,-264.51 2127.16,-252.09\"/>\n<polygon fill=\"black\" stroke=\"black\" points=\"2128.02,-248.67 2117.43,-248.54 2125.62,-255.25 2128.02,-248.67\"/>\n</g>\n<!-- AMIS1021004 -->\n<g id=\"node49\" class=\"node\">\n<title>AMIS1021004</title>\n<ellipse fill=\"none\" stroke=\"black\" cx=\"2272.3\" cy=\"-234\" rx=\"63.89\" ry=\"18\"/>\n<text text-anchor=\"middle\" x=\"2272.3\" y=\"-230.3\" font-family=\"Times,serif\" font-size=\"14.00\">AMIS1021004</text>\n</g>\n<!-- ADUR4406&#45;&gt;AMIS1021004 -->\n<g id=\"edge48\" class=\"edge\">\n<title>ADUR4406&#45;&gt;AMIS1021004</title>\n<path fill=\"none\" stroke=\"black\" d=\"M2272.3,-287.7C2272.3,-279.98 2272.3,-270.71 2272.3,-262.11\"/>\n<polygon fill=\"black\" stroke=\"black\" points=\"2275.8,-262.1 2272.3,-252.1 2268.8,-262.1 2275.8,-262.1\"/>\n</g>\n<!-- AMER1904 -->\n<g id=\"node46\" class=\"node\">\n<title>AMER1904</title>\n<ellipse fill=\"none\" stroke=\"black\" cx=\"1956.3\" cy=\"-162\" rx=\"53.89\" ry=\"18\"/>\n<text text-anchor=\"middle\" x=\"1956.3\" y=\"-158.3\" font-family=\"Times,serif\" font-size=\"14.00\">AMER1904</text>\n</g>\n<!-- AADN758180&#45;&gt;AMER1904 -->\n<g id=\"edge45\" class=\"edge\">\n<title>AADN758180&#45;&gt;AMER1904</title>\n<path fill=\"none\" stroke=\"black\" d=\"M2053.08,-217.64C2034.99,-207.42 2011.05,-193.91 1991.51,-182.88\"/>\n<polygon fill=\"black\" stroke=\"black\" points=\"1993.02,-179.71 1982.59,-177.85 1989.58,-185.81 1993.02,-179.71\"/>\n</g>\n<!-- APRO2086 -->\n<g id=\"node48\" class=\"node\">\n<title>APRO2086</title>\n<ellipse fill=\"none\" stroke=\"black\" cx=\"2080.3\" cy=\"-162\" rx=\"51.99\" ry=\"18\"/>\n<text text-anchor=\"middle\" x=\"2080.3\" y=\"-158.3\" font-family=\"Times,serif\" font-size=\"14.00\">APRO2086</text>\n</g>\n<!-- AADN758180&#45;&gt;APRO2086 -->\n<g id=\"edge47\" class=\"edge\">\n<title>AADN758180&#45;&gt;APRO2086</title>\n<path fill=\"none\" stroke=\"black\" d=\"M2080.3,-215.7C2080.3,-207.98 2080.3,-198.71 2080.3,-190.11\"/>\n<polygon fill=\"black\" stroke=\"black\" points=\"2083.8,-190.1 2080.3,-180.1 2076.8,-190.1 2083.8,-190.1\"/>\n</g>\n<!-- ANVI&#45;1775 -->\n<g id=\"node47\" class=\"node\">\n<title>ANVI&#45;1775</title>\n<ellipse fill=\"none\" stroke=\"black\" cx=\"2019.3\" cy=\"-90\" rx=\"53.09\" ry=\"18\"/>\n<text text-anchor=\"middle\" x=\"2019.3\" y=\"-86.3\" font-family=\"Times,serif\" font-size=\"14.00\">ANVI&#45;1775</text>\n</g>\n<!-- AMER1904&#45;&gt;ANVI&#45;1775 -->\n<g id=\"edge46\" class=\"edge\">\n<title>AMER1904&#45;&gt;ANVI&#45;1775</title>\n<path fill=\"none\" stroke=\"black\" d=\"M1971.23,-144.41C1979.15,-135.61 1989.03,-124.63 1997.77,-114.92\"/>\n<polygon fill=\"black\" stroke=\"black\" points=\"2000.38,-117.24 2004.47,-107.47 1995.18,-112.56 2000.38,-117.24\"/>\n</g>\n<!-- AASV7397 -->\n<g id=\"node50\" class=\"node\">\n<title>AASV7397</title>\n<ellipse fill=\"none\" stroke=\"black\" cx=\"2202.3\" cy=\"-162\" rx=\"51.99\" ry=\"18\"/>\n<text text-anchor=\"middle\" x=\"2202.3\" y=\"-158.3\" font-family=\"Times,serif\" font-size=\"14.00\">AASV7397</text>\n</g>\n<!-- AMIS1021004&#45;&gt;AASV7397 -->\n<g id=\"edge49\" class=\"edge\">\n<title>AMIS1021004&#45;&gt;AASV7397</title>\n<path fill=\"none\" stroke=\"black\" d=\"M2255.71,-216.41C2246.81,-207.52 2235.71,-196.41 2225.93,-186.63\"/>\n<polygon fill=\"black\" stroke=\"black\" points=\"2228.31,-184.07 2218.77,-179.47 2223.36,-189.02 2228.31,-184.07\"/>\n</g>\n<!-- ASUR30154 -->\n<g id=\"node51\" class=\"node\">\n<title>ASUR30154</title>\n<ellipse fill=\"none\" stroke=\"black\" cx=\"2328.3\" cy=\"-162\" rx=\"55.79\" ry=\"18\"/>\n<text text-anchor=\"middle\" x=\"2328.3\" y=\"-158.3\" font-family=\"Times,serif\" font-size=\"14.00\">ASUR30154</text>\n</g>\n<!-- AMIS1021004&#45;&gt;ASUR30154 -->\n<g id=\"edge50\" class=\"edge\">\n<title>AMIS1021004&#45;&gt;ASUR30154</title>\n<path fill=\"none\" stroke=\"black\" d=\"M2285.85,-216.05C2292.66,-207.54 2301.04,-197.07 2308.55,-187.68\"/>\n<polygon fill=\"black\" stroke=\"black\" points=\"2311.35,-189.78 2314.86,-179.79 2305.88,-185.41 2311.35,-189.78\"/>\n</g>\n<!-- AASV7371 -->\n<g id=\"node52\" class=\"node\">\n<title>AASV7371</title>\n<ellipse fill=\"none\" stroke=\"black\" cx=\"2328.3\" cy=\"-90\" rx=\"51.99\" ry=\"18\"/>\n<text text-anchor=\"middle\" x=\"2328.3\" y=\"-86.3\" font-family=\"Times,serif\" font-size=\"14.00\">AASV7371</text>\n</g>\n<!-- ASUR30154&#45;&gt;AASV7371 -->\n<g id=\"edge51\" class=\"edge\">\n<title>ASUR30154&#45;&gt;AASV7371</title>\n<path fill=\"none\" stroke=\"black\" d=\"M2328.3,-143.7C2328.3,-135.98 2328.3,-126.71 2328.3,-118.11\"/>\n<polygon fill=\"black\" stroke=\"black\" points=\"2331.8,-118.1 2328.3,-108.1 2324.8,-118.1 2331.8,-118.1\"/>\n</g>\n<!-- APRB293311 -->\n<g id=\"node54\" class=\"node\">\n<title>APRB293311</title>\n<ellipse fill=\"none\" stroke=\"black\" cx=\"2458.3\" cy=\"-234\" rx=\"59.59\" ry=\"18\"/>\n<text text-anchor=\"middle\" x=\"2458.3\" y=\"-230.3\" font-family=\"Times,serif\" font-size=\"14.00\">APRB293311</text>\n</g>\n<!-- VMUR2690&#45;&gt;APRB293311 -->\n<g id=\"edge53\" class=\"edge\">\n<title>VMUR2690&#45;&gt;APRB293311</title>\n<path fill=\"none\" stroke=\"black\" d=\"M2508.65,-288.41C2500.35,-279.61 2490,-268.63 2480.85,-258.92\"/>\n<polygon fill=\"black\" stroke=\"black\" points=\"2483.23,-256.34 2473.82,-251.47 2478.14,-261.15 2483.23,-256.34\"/>\n</g>\n<!-- AAYS1686 -->\n<g id=\"node56\" class=\"node\">\n<title>AAYS1686</title>\n<ellipse fill=\"none\" stroke=\"black\" cx=\"2591.3\" cy=\"-234\" rx=\"51.99\" ry=\"18\"/>\n<text text-anchor=\"middle\" x=\"2591.3\" y=\"-230.3\" font-family=\"Times,serif\" font-size=\"14.00\">AAYS1686</text>\n</g>\n<!-- VMUR2690&#45;&gt;AAYS1686 -->\n<g id=\"edge55\" class=\"edge\">\n<title>VMUR2690&#45;&gt;AAYS1686</title>\n<path fill=\"none\" stroke=\"black\" d=\"M2540.17,-288.41C2548.6,-279.61 2559.11,-268.63 2568.4,-258.92\"/>\n<polygon fill=\"black\" stroke=\"black\" points=\"2571.15,-261.11 2575.53,-251.47 2566.09,-256.27 2571.15,-261.11\"/>\n</g>\n<!-- AINP22351 -->\n<g id=\"node55\" class=\"node\">\n<title>AINP22351</title>\n<ellipse fill=\"none\" stroke=\"black\" cx=\"2455.3\" cy=\"-162\" rx=\"53.09\" ry=\"18\"/>\n<text text-anchor=\"middle\" x=\"2455.3\" y=\"-158.3\" font-family=\"Times,serif\" font-size=\"14.00\">AINP22351</text>\n</g>\n<!-- APRB293311&#45;&gt;AINP22351 -->\n<g id=\"edge54\" class=\"edge\">\n<title>APRB293311&#45;&gt;AINP22351</title>\n<path fill=\"none\" stroke=\"black\" d=\"M2457.55,-215.7C2457.22,-207.98 2456.83,-198.71 2456.46,-190.11\"/>\n<polygon fill=\"black\" stroke=\"black\" points=\"2459.95,-189.95 2456.03,-180.1 2452.96,-190.25 2459.95,-189.95\"/>\n</g>\n<!-- AGES1474130 -->\n<g id=\"node57\" class=\"node\">\n<title>AGES1474130</title>\n<ellipse fill=\"none\" stroke=\"black\" cx=\"2591.3\" cy=\"-162\" rx=\"64.19\" ry=\"18\"/>\n<text text-anchor=\"middle\" x=\"2591.3\" y=\"-158.3\" font-family=\"Times,serif\" font-size=\"14.00\">AGES1474130</text>\n</g>\n<!-- AAYS1686&#45;&gt;AGES1474130 -->\n<g id=\"edge56\" class=\"edge\">\n<title>AAYS1686&#45;&gt;AGES1474130</title>\n<path fill=\"none\" stroke=\"black\" d=\"M2591.3,-215.7C2591.3,-207.98 2591.3,-198.71 2591.3,-190.11\"/>\n<polygon fill=\"black\" stroke=\"black\" points=\"2594.8,-190.1 2591.3,-180.1 2587.8,-190.1 2594.8,-190.1\"/>\n</g>\n<!-- AREI&#45;17525 -->\n<g id=\"node58\" class=\"node\">\n<title>AREI&#45;17525</title>\n<ellipse fill=\"none\" stroke=\"black\" cx=\"2729.3\" cy=\"-162\" rx=\"55.79\" ry=\"18\"/>\n<text text-anchor=\"middle\" x=\"2729.3\" y=\"-158.3\" font-family=\"Times,serif\" font-size=\"14.00\">AREI&#45;17525</text>\n</g>\n<!-- AAYS1686&#45;&gt;AREI&#45;17525 -->\n<g id=\"edge57\" class=\"edge\">\n<title>AAYS1686&#45;&gt;AREI&#45;17525</title>\n<path fill=\"none\" stroke=\"black\" d=\"M2619.55,-218.67C2640.35,-208.12 2668.83,-193.67 2691.56,-182.14\"/>\n<polygon fill=\"black\" stroke=\"black\" points=\"2693.26,-185.2 2700.6,-177.56 2690.1,-178.96 2693.26,-185.2\"/>\n</g>\n<!-- ABKS1963 -->\n<g id=\"node59\" class=\"node\">\n<title>ABKS1963</title>\n<ellipse fill=\"none\" stroke=\"black\" cx=\"2729.3\" cy=\"-90\" rx=\"51.99\" ry=\"18\"/>\n<text text-anchor=\"middle\" x=\"2729.3\" y=\"-86.3\" font-family=\"Times,serif\" font-size=\"14.00\">ABKS1963</text>\n</g>\n<!-- AREI&#45;17525&#45;&gt;ABKS1963 -->\n<g id=\"edge58\" class=\"edge\">\n<title>AREI&#45;17525&#45;&gt;ABKS1963</title>\n<path fill=\"none\" stroke=\"black\" d=\"M2729.3,-143.7C2729.3,-135.98 2729.3,-126.71 2729.3,-118.11\"/>\n<polygon fill=\"black\" stroke=\"black\" points=\"2732.8,-118.1 2729.3,-108.1 2725.8,-118.1 2732.8,-118.1\"/>\n</g>\n<!-- ADUR4751 -->\n<g id=\"node61\" class=\"node\">\n<title>ADUR4751</title>\n<ellipse fill=\"none\" stroke=\"black\" cx=\"3068.3\" cy=\"-306\" rx=\"53.09\" ry=\"18\"/>\n<text text-anchor=\"middle\" x=\"3068.3\" y=\"-302.3\" font-family=\"Times,serif\" font-size=\"14.00\">ADUR4751</text>\n</g>\n<!-- VAYH3595&#45;&gt;ADUR4751 -->\n<g id=\"edge60\" class=\"edge\">\n<title>VAYH3595&#45;&gt;ADUR4751</title>\n<path fill=\"none\" stroke=\"black\" d=\"M3068.3,-359.7C3068.3,-351.98 3068.3,-342.71 3068.3,-334.11\"/>\n<polygon fill=\"black\" stroke=\"black\" points=\"3071.8,-334.1 3068.3,-324.1 3064.8,-334.1 3071.8,-334.1\"/>\n</g>\n<!-- VSBI11485 -->\n<g id=\"node68\" class=\"node\">\n<title>VSBI11485</title>\n<ellipse fill=\"none\" stroke=\"black\" cx=\"3378.3\" cy=\"-306\" rx=\"52.79\" ry=\"18\"/>\n<text text-anchor=\"middle\" x=\"3378.3\" y=\"-302.3\" font-family=\"Times,serif\" font-size=\"14.00\">VSBI11485</text>\n</g>\n<!-- VAYH3595&#45;&gt;VSBI11485 -->\n<g id=\"edge67\" class=\"edge\">\n<title>VAYH3595&#45;&gt;VSBI11485</title>\n<path fill=\"none\" stroke=\"black\" d=\"M3110.75,-367.41C3166.67,-354.79 3264.99,-332.58 3325.6,-318.9\"/>\n<polygon fill=\"black\" stroke=\"black\" points=\"3326.38,-322.31 3335.36,-316.7 3324.83,-315.48 3326.38,-322.31\"/>\n</g>\n<!-- AARE64875 -->\n<g id=\"node62\" class=\"node\">\n<title>AARE64875</title>\n<ellipse fill=\"none\" stroke=\"black\" cx=\"3003.3\" cy=\"-234\" rx=\"56.59\" ry=\"18\"/>\n<text text-anchor=\"middle\" x=\"3003.3\" y=\"-230.3\" font-family=\"Times,serif\" font-size=\"14.00\">AARE64875</text>\n</g>\n<!-- ADUR4751&#45;&gt;AARE64875 -->\n<g id=\"edge61\" class=\"edge\">\n<title>ADUR4751&#45;&gt;AARE64875</title>\n<path fill=\"none\" stroke=\"black\" d=\"M3052.89,-288.41C3044.72,-279.61 3034.52,-268.63 3025.51,-258.92\"/>\n<polygon fill=\"black\" stroke=\"black\" points=\"3027.96,-256.42 3018.59,-251.47 3022.83,-261.18 3027.96,-256.42\"/>\n</g>\n<!-- ACRS94447 -->\n<g id=\"node65\" class=\"node\">\n<title>ACRS94447</title>\n<ellipse fill=\"none\" stroke=\"black\" cx=\"3133.3\" cy=\"-234\" rx=\"55.79\" ry=\"18\"/>\n<text text-anchor=\"middle\" x=\"3133.3\" y=\"-230.3\" font-family=\"Times,serif\" font-size=\"14.00\">ACRS94447</text>\n</g>\n<!-- ADUR4751&#45;&gt;ACRS94447 -->\n<g id=\"edge64\" class=\"edge\">\n<title>ADUR4751&#45;&gt;ACRS94447</title>\n<path fill=\"none\" stroke=\"black\" d=\"M3083.7,-288.41C3091.88,-279.61 3102.07,-268.63 3111.08,-258.92\"/>\n<polygon fill=\"black\" stroke=\"black\" points=\"3113.76,-261.18 3118,-251.47 3108.63,-256.42 3113.76,-261.18\"/>\n</g>\n<!-- ASUM460580 -->\n<g id=\"node63\" class=\"node\">\n<title>ASUM460580</title>\n<ellipse fill=\"none\" stroke=\"black\" cx=\"2866.3\" cy=\"-162\" rx=\"63.09\" ry=\"18\"/>\n<text text-anchor=\"middle\" x=\"2866.3\" y=\"-158.3\" font-family=\"Times,serif\" font-size=\"14.00\">ASUM460580</text>\n</g>\n<!-- AARE64875&#45;&gt;ASUM460580 -->\n<g id=\"edge62\" class=\"edge\">\n<title>AARE64875&#45;&gt;ASUM460580</title>\n<path fill=\"none\" stroke=\"black\" d=\"M2974.58,-218.33C2954.39,-208.01 2927.15,-194.1 2905.05,-182.8\"/>\n<polygon fill=\"black\" stroke=\"black\" points=\"2906.42,-179.57 2895.92,-178.14 2903.24,-185.81 2906.42,-179.57\"/>\n</g>\n<!-- ABNC84990 -->\n<g id=\"node64\" class=\"node\">\n<title>ABNC84990</title>\n<ellipse fill=\"none\" stroke=\"black\" cx=\"3004.3\" cy=\"-162\" rx=\"57.39\" ry=\"18\"/>\n<text text-anchor=\"middle\" x=\"3004.3\" y=\"-158.3\" font-family=\"Times,serif\" font-size=\"14.00\">ABNC84990</text>\n</g>\n<!-- AARE64875&#45;&gt;ABNC84990 -->\n<g id=\"edge63\" class=\"edge\">\n<title>AARE64875&#45;&gt;ABNC84990</title>\n<path fill=\"none\" stroke=\"black\" d=\"M3003.54,-215.7C3003.65,-207.98 3003.79,-198.71 3003.91,-190.11\"/>\n<polygon fill=\"black\" stroke=\"black\" points=\"3007.41,-190.15 3004.05,-180.1 3000.41,-190.05 3007.41,-190.15\"/>\n</g>\n<!-- ABKS1753 -->\n<g id=\"node66\" class=\"node\">\n<title>ABKS1753</title>\n<ellipse fill=\"none\" stroke=\"black\" cx=\"3131.3\" cy=\"-162\" rx=\"51.99\" ry=\"18\"/>\n<text text-anchor=\"middle\" x=\"3131.3\" y=\"-158.3\" font-family=\"Times,serif\" font-size=\"14.00\">ABKS1753</text>\n</g>\n<!-- ACRS94447&#45;&gt;ABKS1753 -->\n<g id=\"edge65\" class=\"edge\">\n<title>ACRS94447&#45;&gt;ABKS1753</title>\n<path fill=\"none\" stroke=\"black\" d=\"M3132.8,-215.7C3132.58,-207.98 3132.32,-198.71 3132.07,-190.11\"/>\n<polygon fill=\"black\" stroke=\"black\" points=\"3135.57,-190 3131.78,-180.1 3128.57,-190.2 3135.57,-190\"/>\n</g>\n<!-- ARAZ&#45;998 -->\n<g id=\"node67\" class=\"node\">\n<title>ARAZ&#45;998</title>\n<ellipse fill=\"none\" stroke=\"black\" cx=\"3252.3\" cy=\"-162\" rx=\"50.89\" ry=\"18\"/>\n<text text-anchor=\"middle\" x=\"3252.3\" y=\"-158.3\" font-family=\"Times,serif\" font-size=\"14.00\">ARAZ&#45;998</text>\n</g>\n<!-- ACRS94447&#45;&gt;ARAZ&#45;998 -->\n<g id=\"edge66\" class=\"edge\">\n<title>ACRS94447&#45;&gt;ARAZ&#45;998</title>\n<path fill=\"none\" stroke=\"black\" d=\"M3158.82,-217.98C3176.27,-207.72 3199.59,-194 3218.57,-182.84\"/>\n<polygon fill=\"black\" stroke=\"black\" points=\"3220.37,-185.84 3227.22,-177.75 3216.82,-179.81 3220.37,-185.84\"/>\n</g>\n<!-- ABKS&#45;767 -->\n<g id=\"node69\" class=\"node\">\n<title>ABKS&#45;767</title>\n<ellipse fill=\"none\" stroke=\"black\" cx=\"3378.3\" cy=\"-234\" rx=\"50.09\" ry=\"18\"/>\n<text text-anchor=\"middle\" x=\"3378.3\" y=\"-230.3\" font-family=\"Times,serif\" font-size=\"14.00\">ABKS&#45;767</text>\n</g>\n<!-- VSBI11485&#45;&gt;ABKS&#45;767 -->\n<g id=\"edge68\" class=\"edge\">\n<title>VSBI11485&#45;&gt;ABKS&#45;767</title>\n<path fill=\"none\" stroke=\"black\" d=\"M3378.3,-287.7C3378.3,-279.98 3378.3,-270.71 3378.3,-262.11\"/>\n<polygon fill=\"black\" stroke=\"black\" points=\"3381.8,-262.1 3378.3,-252.1 3374.8,-262.1 3381.8,-262.1\"/>\n</g>\n<!-- VJMI6191 -->\n<g id=\"node71\" class=\"node\">\n<title>VJMI6191</title>\n<ellipse fill=\"none\" stroke=\"black\" cx=\"3506.3\" cy=\"-234\" rx=\"49.29\" ry=\"18\"/>\n<text text-anchor=\"middle\" x=\"3506.3\" y=\"-230.3\" font-family=\"Times,serif\" font-size=\"14.00\">VJMI6191</text>\n</g>\n<!-- VSBI11485&#45;&gt;VJMI6191 -->\n<g id=\"edge70\" class=\"edge\">\n<title>VSBI11485&#45;&gt;VJMI6191</title>\n<path fill=\"none\" stroke=\"black\" d=\"M3405.13,-290.33C3424.29,-279.85 3450.24,-265.65 3471.07,-254.27\"/>\n<polygon fill=\"black\" stroke=\"black\" points=\"3472.84,-257.28 3479.94,-249.42 3469.48,-251.14 3472.84,-257.28\"/>\n</g>\n<!-- VBNC88491 -->\n<g id=\"node70\" class=\"node\">\n<title>VBNC88491</title>\n<ellipse fill=\"none\" stroke=\"black\" cx=\"3378.3\" cy=\"-162\" rx=\"57.39\" ry=\"18\"/>\n<text text-anchor=\"middle\" x=\"3378.3\" y=\"-158.3\" font-family=\"Times,serif\" font-size=\"14.00\">VBNC88491</text>\n</g>\n<!-- ABKS&#45;767&#45;&gt;VBNC88491 -->\n<g id=\"edge69\" class=\"edge\">\n<title>ABKS&#45;767&#45;&gt;VBNC88491</title>\n<path fill=\"none\" stroke=\"black\" d=\"M3378.3,-215.7C3378.3,-207.98 3378.3,-198.71 3378.3,-190.11\"/>\n<polygon fill=\"black\" stroke=\"black\" points=\"3381.8,-190.1 3378.3,-180.1 3374.8,-190.1 3381.8,-190.1\"/>\n</g>\n<!-- VREI20371 -->\n<g id=\"node72\" class=\"node\">\n<title>VREI20371</title>\n<ellipse fill=\"none\" stroke=\"black\" cx=\"3506.3\" cy=\"-162\" rx=\"53.09\" ry=\"18\"/>\n<text text-anchor=\"middle\" x=\"3506.3\" y=\"-158.3\" font-family=\"Times,serif\" font-size=\"14.00\">VREI20371</text>\n</g>\n<!-- VJMI6191&#45;&gt;VREI20371 -->\n<g id=\"edge71\" class=\"edge\">\n<title>VJMI6191&#45;&gt;VREI20371</title>\n<path fill=\"none\" stroke=\"black\" d=\"M3506.3,-215.7C3506.3,-207.98 3506.3,-198.71 3506.3,-190.11\"/>\n<polygon fill=\"black\" stroke=\"black\" points=\"3509.8,-190.1 3506.3,-180.1 3502.8,-190.1 3509.8,-190.1\"/>\n</g>\n<!-- VVLZ&#45;2729 -->\n<g id=\"node75\" class=\"node\">\n<title>VVLZ&#45;2729</title>\n<ellipse fill=\"none\" stroke=\"black\" cx=\"3632.3\" cy=\"-162\" rx=\"54.69\" ry=\"18\"/>\n<text text-anchor=\"middle\" x=\"3632.3\" y=\"-158.3\" font-family=\"Times,serif\" font-size=\"14.00\">VVLZ&#45;2729</text>\n</g>\n<!-- VJMI6191&#45;&gt;VVLZ&#45;2729 -->\n<g id=\"edge74\" class=\"edge\">\n<title>VJMI6191&#45;&gt;VVLZ&#45;2729</title>\n<path fill=\"none\" stroke=\"black\" d=\"M3532.4,-218.5C3550.91,-208.22 3575.96,-194.3 3596.35,-182.97\"/>\n<polygon fill=\"black\" stroke=\"black\" points=\"3598.31,-185.88 3605.35,-177.97 3594.91,-179.77 3598.31,-185.88\"/>\n</g>\n<!-- VKWR11902625 -->\n<g id=\"node73\" class=\"node\">\n<title>VKWR11902625</title>\n<ellipse fill=\"none\" stroke=\"black\" cx=\"3341.3\" cy=\"-90\" rx=\"73.39\" ry=\"18\"/>\n<text text-anchor=\"middle\" x=\"3341.3\" y=\"-86.3\" font-family=\"Times,serif\" font-size=\"14.00\">VKWR11902625</text>\n</g>\n<!-- VREI20371&#45;&gt;VKWR11902625 -->\n<g id=\"edge72\" class=\"edge\">\n<title>VREI20371&#45;&gt;VKWR11902625</title>\n<path fill=\"none\" stroke=\"black\" d=\"M3474.48,-147.5C3449.35,-136.84 3413.97,-121.83 3386,-109.96\"/>\n<polygon fill=\"black\" stroke=\"black\" points=\"3387.01,-106.59 3376.44,-105.91 3384.28,-113.04 3387.01,-106.59\"/>\n</g>\n<!-- VKWR11903740 -->\n<g id=\"node74\" class=\"node\">\n<title>VKWR11903740</title>\n<ellipse fill=\"none\" stroke=\"black\" cx=\"3506.3\" cy=\"-90\" rx=\"73.39\" ry=\"18\"/>\n<text text-anchor=\"middle\" x=\"3506.3\" y=\"-86.3\" font-family=\"Times,serif\" font-size=\"14.00\">VKWR11903740</text>\n</g>\n<!-- VREI20371&#45;&gt;VKWR11903740 -->\n<g id=\"edge73\" class=\"edge\">\n<title>VREI20371&#45;&gt;VKWR11903740</title>\n<path fill=\"none\" stroke=\"black\" d=\"M3506.3,-143.7C3506.3,-135.98 3506.3,-126.71 3506.3,-118.11\"/>\n<polygon fill=\"black\" stroke=\"black\" points=\"3509.8,-118.1 3506.3,-108.1 3502.8,-118.1 3509.8,-118.1\"/>\n</g>\n<!-- VZSB37 -->\n<g id=\"node76\" class=\"node\">\n<title>VZSB37</title>\n<ellipse fill=\"none\" stroke=\"black\" cx=\"3640.3\" cy=\"-90\" rx=\"42.49\" ry=\"18\"/>\n<text text-anchor=\"middle\" x=\"3640.3\" y=\"-86.3\" font-family=\"Times,serif\" font-size=\"14.00\">VZSB37</text>\n</g>\n<!-- VVLZ&#45;2729&#45;&gt;VZSB37 -->\n<g id=\"edge75\" class=\"edge\">\n<title>VVLZ&#45;2729&#45;&gt;VZSB37</title>\n<path fill=\"none\" stroke=\"black\" d=\"M3634.27,-143.7C3635.15,-135.98 3636.21,-126.71 3637.2,-118.11\"/>\n<polygon fill=\"black\" stroke=\"black\" points=\"3640.68,-118.44 3638.34,-108.1 3633.73,-117.64 3640.68,-118.44\"/>\n</g>\n<!-- VSUM461941 -->\n<g id=\"node78\" class=\"node\">\n<title>VSUM461941</title>\n<ellipse fill=\"none\" stroke=\"black\" cx=\"4185.3\" cy=\"-450\" rx=\"63.09\" ry=\"18\"/>\n<text text-anchor=\"middle\" x=\"4185.3\" y=\"-446.3\" font-family=\"Times,serif\" font-size=\"14.00\">VSUM461941</text>\n</g>\n<!-- VARE83401&#45;&gt;VSUM461941 -->\n<g id=\"edge77\" class=\"edge\">\n<title>VARE83401&#45;&gt;VSUM461941</title>\n<path fill=\"none\" stroke=\"black\" d=\"M4185.3,-503.7C4185.3,-495.98 4185.3,-486.71 4185.3,-478.11\"/>\n<polygon fill=\"black\" stroke=\"black\" points=\"4188.8,-478.1 4185.3,-468.1 4181.8,-478.1 4188.8,-478.1\"/>\n</g>\n<!-- VITEK3320 -->\n<g id=\"node107\" class=\"node\">\n<title>VITEK3320</title>\n<ellipse fill=\"none\" stroke=\"black\" cx=\"5421.3\" cy=\"-450\" rx=\"54.69\" ry=\"18\"/>\n<text text-anchor=\"middle\" x=\"5421.3\" y=\"-446.3\" font-family=\"Times,serif\" font-size=\"14.00\">VITEK3320</text>\n</g>\n<!-- VARE83401&#45;&gt;VITEK3320 -->\n<g id=\"edge106\" class=\"edge\">\n<title>VARE83401&#45;&gt;VITEK3320</title>\n<path fill=\"none\" stroke=\"black\" d=\"M4240,-517.9C4441.56,-506.49 5142.21,-466.81 5357.72,-454.6\"/>\n<polygon fill=\"black\" stroke=\"black\" points=\"5358.13,-458.08 5367.92,-454.02 5357.74,-451.09 5358.13,-458.08\"/>\n</g>\n<!-- VKAS3000 -->\n<g id=\"node79\" class=\"node\">\n<title>VKAS3000</title>\n<ellipse fill=\"none\" stroke=\"black\" cx=\"4044.3\" cy=\"-378\" rx=\"51.99\" ry=\"18\"/>\n<text text-anchor=\"middle\" x=\"4044.3\" y=\"-374.3\" font-family=\"Times,serif\" font-size=\"14.00\">VKAS3000</text>\n</g>\n<!-- VSUM461941&#45;&gt;VKAS3000 -->\n<g id=\"edge78\" class=\"edge\">\n<title>VSUM461941&#45;&gt;VKAS3000</title>\n<path fill=\"none\" stroke=\"black\" d=\"M4155.05,-433.98C4133.71,-423.39 4104.98,-409.13 4082.13,-397.78\"/>\n<polygon fill=\"black\" stroke=\"black\" points=\"4083.56,-394.59 4073.05,-393.27 4080.45,-400.86 4083.56,-394.59\"/>\n</g>\n<!-- V341&#45;2187 -->\n<g id=\"node89\" class=\"node\">\n<title>V341&#45;2187</title>\n<ellipse fill=\"none\" stroke=\"black\" cx=\"4437.3\" cy=\"-378\" rx=\"50.89\" ry=\"18\"/>\n<text text-anchor=\"middle\" x=\"4437.3\" y=\"-374.3\" font-family=\"Times,serif\" font-size=\"14.00\">V341&#45;2187</text>\n</g>\n<!-- VSUM461941&#45;&gt;V341&#45;2187 -->\n<g id=\"edge88\" class=\"edge\">\n<title>VSUM461941&#45;&gt;V341&#45;2187</title>\n<path fill=\"none\" stroke=\"black\" d=\"M4228.9,-436.89C4273.52,-424.49 4342.7,-405.28 4388.96,-392.43\"/>\n<polygon fill=\"black\" stroke=\"black\" points=\"4390.06,-395.75 4398.76,-389.7 4388.19,-389.01 4390.06,-395.75\"/>\n</g>\n<!-- VADC42147 -->\n<g id=\"node80\" class=\"node\">\n<title>VADC42147</title>\n<ellipse fill=\"none\" stroke=\"black\" cx=\"3781.3\" cy=\"-306\" rx=\"56.59\" ry=\"18\"/>\n<text text-anchor=\"middle\" x=\"3781.3\" y=\"-302.3\" font-family=\"Times,serif\" font-size=\"14.00\">VADC42147</text>\n</g>\n<!-- VKAS3000&#45;&gt;VADC42147 -->\n<g id=\"edge79\" class=\"edge\">\n<title>VKAS3000&#45;&gt;VADC42147</title>\n<path fill=\"none\" stroke=\"black\" d=\"M4004.35,-366.37C3958.55,-354.18 3883.32,-334.16 3833.06,-320.78\"/>\n<polygon fill=\"black\" stroke=\"black\" points=\"3833.92,-317.39 3823.36,-318.2 3832.12,-324.15 3833.92,-317.39\"/>\n</g>\n<!-- VKWC11905357 -->\n<g id=\"node84\" class=\"node\">\n<title>VKWC11905357</title>\n<ellipse fill=\"none\" stroke=\"black\" cx=\"4044.3\" cy=\"-306\" rx=\"73.39\" ry=\"18\"/>\n<text text-anchor=\"middle\" x=\"4044.3\" y=\"-302.3\" font-family=\"Times,serif\" font-size=\"14.00\">VKWC11905357</text>\n</g>\n<!-- VKAS3000&#45;&gt;VKWC11905357 -->\n<g id=\"edge83\" class=\"edge\">\n<title>VKAS3000&#45;&gt;VKWC11905357</title>\n<path fill=\"none\" stroke=\"black\" d=\"M4044.3,-359.7C4044.3,-351.98 4044.3,-342.71 4044.3,-334.11\"/>\n<polygon fill=\"black\" stroke=\"black\" points=\"4047.8,-334.1 4044.3,-324.1 4040.8,-334.1 4047.8,-334.1\"/>\n</g>\n<!-- VBGG&#45;100693 -->\n<g id=\"node81\" class=\"node\">\n<title>VBGG&#45;100693</title>\n<ellipse fill=\"none\" stroke=\"black\" cx=\"3640.3\" cy=\"-234\" rx=\"64.99\" ry=\"18\"/>\n<text text-anchor=\"middle\" x=\"3640.3\" y=\"-230.3\" font-family=\"Times,serif\" font-size=\"14.00\">VBGG&#45;100693</text>\n</g>\n<!-- VADC42147&#45;&gt;VBGG&#45;100693 -->\n<g id=\"edge80\" class=\"edge\">\n<title>VADC42147&#45;&gt;VBGG&#45;100693</title>\n<path fill=\"none\" stroke=\"black\" d=\"M3752.08,-290.5C3731.09,-280.08 3702.57,-265.92 3679.59,-254.51\"/>\n<polygon fill=\"black\" stroke=\"black\" points=\"3680.96,-251.28 3670.45,-249.97 3677.85,-257.55 3680.96,-251.28\"/>\n</g>\n<!-- VBIE407216 -->\n<g id=\"node82\" class=\"node\">\n<title>VBIE407216</title>\n<ellipse fill=\"none\" stroke=\"black\" cx=\"3781.3\" cy=\"-234\" rx=\"57.69\" ry=\"18\"/>\n<text text-anchor=\"middle\" x=\"3781.3\" y=\"-230.3\" font-family=\"Times,serif\" font-size=\"14.00\">VBIE407216</text>\n</g>\n<!-- VADC42147&#45;&gt;VBIE407216 -->\n<g id=\"edge81\" class=\"edge\">\n<title>VADC42147&#45;&gt;VBIE407216</title>\n<path fill=\"none\" stroke=\"black\" d=\"M3781.3,-287.7C3781.3,-279.98 3781.3,-270.71 3781.3,-262.11\"/>\n<polygon fill=\"black\" stroke=\"black\" points=\"3784.8,-262.1 3781.3,-252.1 3777.8,-262.1 3784.8,-262.1\"/>\n</g>\n<!-- VONE121075455 -->\n<g id=\"node83\" class=\"node\">\n<title>VONE121075455</title>\n<ellipse fill=\"none\" stroke=\"black\" cx=\"3779.3\" cy=\"-162\" rx=\"74.99\" ry=\"18\"/>\n<text text-anchor=\"middle\" x=\"3779.3\" y=\"-158.3\" font-family=\"Times,serif\" font-size=\"14.00\">VONE121075455</text>\n</g>\n<!-- VBIE407216&#45;&gt;VONE121075455 -->\n<g id=\"edge82\" class=\"edge\">\n<title>VBIE407216&#45;&gt;VONE121075455</title>\n<path fill=\"none\" stroke=\"black\" d=\"M3780.8,-215.7C3780.58,-207.98 3780.32,-198.71 3780.07,-190.11\"/>\n<polygon fill=\"black\" stroke=\"black\" points=\"3783.57,-190 3779.78,-180.1 3776.57,-190.2 3783.57,-190\"/>\n</g>\n<!-- VBNC83044 -->\n<g id=\"node85\" class=\"node\">\n<title>VBNC83044</title>\n<ellipse fill=\"none\" stroke=\"black\" cx=\"3979.3\" cy=\"-234\" rx=\"57.39\" ry=\"18\"/>\n<text text-anchor=\"middle\" x=\"3979.3\" y=\"-230.3\" font-family=\"Times,serif\" font-size=\"14.00\">VBNC83044</text>\n</g>\n<!-- VKWC11905357&#45;&gt;VBNC83044 -->\n<g id=\"edge84\" class=\"edge\">\n<title>VKWC11905357&#45;&gt;VBNC83044</title>\n<path fill=\"none\" stroke=\"black\" d=\"M4028.56,-288.05C4020.58,-279.46 4010.73,-268.86 4001.95,-259.4\"/>\n<polygon fill=\"black\" stroke=\"black\" points=\"4004.25,-256.74 3994.89,-251.79 3999.12,-261.5 4004.25,-256.74\"/>\n</g>\n<!-- VINU20737 -->\n<g id=\"node88\" class=\"node\">\n<title>VINU20737</title>\n<ellipse fill=\"none\" stroke=\"black\" cx=\"4109.3\" cy=\"-234\" rx=\"54.69\" ry=\"18\"/>\n<text text-anchor=\"middle\" x=\"4109.3\" y=\"-230.3\" font-family=\"Times,serif\" font-size=\"14.00\">VINU20737</text>\n</g>\n<!-- VKWC11905357&#45;&gt;VINU20737 -->\n<g id=\"edge87\" class=\"edge\">\n<title>VKWC11905357&#45;&gt;VINU20737</title>\n<path fill=\"none\" stroke=\"black\" d=\"M4060.03,-288.05C4068.21,-279.24 4078.35,-268.33 4087.29,-258.69\"/>\n<polygon fill=\"black\" stroke=\"black\" points=\"4089.91,-261.02 4094.15,-251.31 4084.78,-256.25 4089.91,-261.02\"/>\n</g>\n<!-- VEDU&#45;50594 -->\n<g id=\"node86\" class=\"node\">\n<title>VEDU&#45;50594</title>\n<ellipse fill=\"none\" stroke=\"black\" cx=\"3932.3\" cy=\"-162\" rx=\"59.59\" ry=\"18\"/>\n<text text-anchor=\"middle\" x=\"3932.3\" y=\"-158.3\" font-family=\"Times,serif\" font-size=\"14.00\">VEDU&#45;50594</text>\n</g>\n<!-- VBNC83044&#45;&gt;VEDU&#45;50594 -->\n<g id=\"edge85\" class=\"edge\">\n<title>VBNC83044&#45;&gt;VEDU&#45;50594</title>\n<path fill=\"none\" stroke=\"black\" d=\"M3967.92,-216.05C3962.32,-207.71 3955.45,-197.49 3949.25,-188.25\"/>\n<polygon fill=\"black\" stroke=\"black\" points=\"3952.05,-186.14 3943.57,-179.79 3946.24,-190.04 3952.05,-186.14\"/>\n</g>\n<!-- VBNC91850 -->\n<g id=\"node87\" class=\"node\">\n<title>VBNC91850</title>\n<ellipse fill=\"none\" stroke=\"black\" cx=\"4067.3\" cy=\"-162\" rx=\"57.39\" ry=\"18\"/>\n<text text-anchor=\"middle\" x=\"4067.3\" y=\"-158.3\" font-family=\"Times,serif\" font-size=\"14.00\">VBNC91850</text>\n</g>\n<!-- VBNC83044&#45;&gt;VBNC91850 -->\n<g id=\"edge86\" class=\"edge\">\n<title>VBNC83044&#45;&gt;VBNC91850</title>\n<path fill=\"none\" stroke=\"black\" d=\"M3999.26,-217.12C4010.99,-207.78 4026.01,-195.84 4038.95,-185.55\"/>\n<polygon fill=\"black\" stroke=\"black\" points=\"4041.45,-188.03 4047.1,-179.06 4037.1,-182.55 4041.45,-188.03\"/>\n</g>\n<!-- VRAZ380 -->\n<g id=\"node90\" class=\"node\">\n<title>VRAZ380</title>\n<ellipse fill=\"none\" stroke=\"black\" cx=\"4437.3\" cy=\"-306\" rx=\"48.19\" ry=\"18\"/>\n<text text-anchor=\"middle\" x=\"4437.3\" y=\"-302.3\" font-family=\"Times,serif\" font-size=\"14.00\">VRAZ380</text>\n</g>\n<!-- V341&#45;2187&#45;&gt;VRAZ380 -->\n<g id=\"edge89\" class=\"edge\">\n<title>V341&#45;2187&#45;&gt;VRAZ380</title>\n<path fill=\"none\" stroke=\"black\" d=\"M4437.3,-359.7C4437.3,-351.98 4437.3,-342.71 4437.3,-334.11\"/>\n<polygon fill=\"black\" stroke=\"black\" points=\"4440.8,-334.1 4437.3,-324.1 4433.8,-334.1 4440.8,-334.1\"/>\n</g>\n<!-- VKWC11908020 -->\n<g id=\"node96\" class=\"node\">\n<title>VKWC11908020</title>\n<ellipse fill=\"none\" stroke=\"black\" cx=\"4634.3\" cy=\"-306\" rx=\"73.39\" ry=\"18\"/>\n<text text-anchor=\"middle\" x=\"4634.3\" y=\"-302.3\" font-family=\"Times,serif\" font-size=\"14.00\">VKWC11908020</text>\n</g>\n<!-- V341&#45;2187&#45;&gt;VKWC11908020 -->\n<g id=\"edge95\" class=\"edge\">\n<title>V341&#45;2187&#45;&gt;VKWC11908020</title>\n<path fill=\"none\" stroke=\"black\" d=\"M4472.06,-364.65C4503.36,-353.52 4549.71,-337.06 4584.86,-324.57\"/>\n<polygon fill=\"black\" stroke=\"black\" points=\"4586.2,-327.8 4594.45,-321.16 4583.86,-321.21 4586.2,-327.8\"/>\n</g>\n<!-- VBGG&#45;100414 -->\n<g id=\"node91\" class=\"node\">\n<title>VBGG&#45;100414</title>\n<ellipse fill=\"none\" stroke=\"black\" cx=\"4294.3\" cy=\"-234\" rx=\"64.99\" ry=\"18\"/>\n<text text-anchor=\"middle\" x=\"4294.3\" y=\"-230.3\" font-family=\"Times,serif\" font-size=\"14.00\">VBGG&#45;100414</text>\n</g>\n<!-- VRAZ380&#45;&gt;VBGG&#45;100414 -->\n<g id=\"edge90\" class=\"edge\">\n<title>VRAZ380&#45;&gt;VBGG&#45;100414</title>\n<path fill=\"none\" stroke=\"black\" d=\"M4409.38,-291.34C4387.93,-280.83 4358.01,-266.19 4334.05,-254.46\"/>\n<polygon fill=\"black\" stroke=\"black\" points=\"4335.38,-251.21 4324.86,-249.96 4332.3,-257.5 4335.38,-251.21\"/>\n</g>\n<!-- VSUM461745 -->\n<g id=\"node94\" class=\"node\">\n<title>VSUM461745</title>\n<ellipse fill=\"none\" stroke=\"black\" cx=\"4440.3\" cy=\"-234\" rx=\"63.09\" ry=\"18\"/>\n<text text-anchor=\"middle\" x=\"4440.3\" y=\"-230.3\" font-family=\"Times,serif\" font-size=\"14.00\">VSUM461745</text>\n</g>\n<!-- VRAZ380&#45;&gt;VSUM461745 -->\n<g id=\"edge93\" class=\"edge\">\n<title>VRAZ380&#45;&gt;VSUM461745</title>\n<path fill=\"none\" stroke=\"black\" d=\"M4438.04,-287.7C4438.37,-279.98 4438.76,-270.71 4439.13,-262.11\"/>\n<polygon fill=\"black\" stroke=\"black\" points=\"4442.63,-262.25 4439.56,-252.1 4435.64,-261.95 4442.63,-262.25\"/>\n</g>\n<!-- VSBI10533 -->\n<g id=\"node92\" class=\"node\">\n<title>VSBI10533</title>\n<ellipse fill=\"none\" stroke=\"black\" cx=\"4195.3\" cy=\"-162\" rx=\"52.79\" ry=\"18\"/>\n<text text-anchor=\"middle\" x=\"4195.3\" y=\"-158.3\" font-family=\"Times,serif\" font-size=\"14.00\">VSBI10533</text>\n</g>\n<!-- VBGG&#45;100414&#45;&gt;VSBI10533 -->\n<g id=\"edge91\" class=\"edge\">\n<title>VBGG&#45;100414&#45;&gt;VSBI10533</title>\n<path fill=\"none\" stroke=\"black\" d=\"M4271.33,-216.76C4257.68,-207.11 4240.2,-194.75 4225.44,-184.31\"/>\n<polygon fill=\"black\" stroke=\"black\" points=\"4227.3,-181.34 4217.11,-178.43 4223.26,-187.06 4227.3,-181.34\"/>\n</g>\n<!-- VVLZ3039 -->\n<g id=\"node93\" class=\"node\">\n<title>VVLZ3039</title>\n<ellipse fill=\"none\" stroke=\"black\" cx=\"4318.3\" cy=\"-162\" rx=\"51.99\" ry=\"18\"/>\n<text text-anchor=\"middle\" x=\"4318.3\" y=\"-158.3\" font-family=\"Times,serif\" font-size=\"14.00\">VVLZ3039</text>\n</g>\n<!-- VBGG&#45;100414&#45;&gt;VVLZ3039 -->\n<g id=\"edge92\" class=\"edge\">\n<title>VBGG&#45;100414&#45;&gt;VVLZ3039</title>\n<path fill=\"none\" stroke=\"black\" d=\"M4300.11,-216.05C4302.81,-208.18 4306.08,-198.62 4309.11,-189.79\"/>\n<polygon fill=\"black\" stroke=\"black\" points=\"4312.44,-190.87 4312.37,-180.28 4305.82,-188.6 4312.44,-190.87\"/>\n</g>\n<!-- VVLZ2611 -->\n<g id=\"node95\" class=\"node\">\n<title>VVLZ2611</title>\n<ellipse fill=\"none\" stroke=\"black\" cx=\"4440.3\" cy=\"-162\" rx=\"51.99\" ry=\"18\"/>\n<text text-anchor=\"middle\" x=\"4440.3\" y=\"-158.3\" font-family=\"Times,serif\" font-size=\"14.00\">VVLZ2611</text>\n</g>\n<!-- VSUM461745&#45;&gt;VVLZ2611 -->\n<g id=\"edge94\" class=\"edge\">\n<title>VSUM461745&#45;&gt;VVLZ2611</title>\n<path fill=\"none\" stroke=\"black\" d=\"M4440.3,-215.7C4440.3,-207.98 4440.3,-198.71 4440.3,-190.11\"/>\n<polygon fill=\"black\" stroke=\"black\" points=\"4443.8,-190.1 4440.3,-180.1 4436.8,-190.1 4443.8,-190.1\"/>\n</g>\n<!-- VPAI11808 -->\n<g id=\"node97\" class=\"node\">\n<title>VPAI11808</title>\n<ellipse fill=\"none\" stroke=\"black\" cx=\"4634.3\" cy=\"-234\" rx=\"52.79\" ry=\"18\"/>\n<text text-anchor=\"middle\" x=\"4634.3\" y=\"-230.3\" font-family=\"Times,serif\" font-size=\"14.00\">VPAI11808</text>\n</g>\n<!-- VKWC11908020&#45;&gt;VPAI11808 -->\n<g id=\"edge96\" class=\"edge\">\n<title>VKWC11908020&#45;&gt;VPAI11808</title>\n<path fill=\"none\" stroke=\"black\" d=\"M4634.3,-287.7C4634.3,-279.98 4634.3,-270.71 4634.3,-262.11\"/>\n<polygon fill=\"black\" stroke=\"black\" points=\"4637.8,-262.1 4634.3,-252.1 4630.8,-262.1 4637.8,-262.1\"/>\n</g>\n<!-- VVVN2354 -->\n<g id=\"node100\" class=\"node\">\n<title>VVVN2354</title>\n<ellipse fill=\"none\" stroke=\"black\" cx=\"4817.3\" cy=\"-234\" rx=\"53.89\" ry=\"18\"/>\n<text text-anchor=\"middle\" x=\"4817.3\" y=\"-230.3\" font-family=\"Times,serif\" font-size=\"14.00\">VVVN2354</text>\n</g>\n<!-- VKWC11908020&#45;&gt;VVVN2354 -->\n<g id=\"edge99\" class=\"edge\">\n<title>VKWC11908020&#45;&gt;VVVN2354</title>\n<path fill=\"none\" stroke=\"black\" d=\"M4672.21,-290.5C4701.69,-279.22 4742.61,-263.57 4773.49,-251.76\"/>\n<polygon fill=\"black\" stroke=\"black\" points=\"4775.04,-254.91 4783.13,-248.07 4772.54,-248.37 4775.04,-254.91\"/>\n</g>\n<!-- VCMP2115 -->\n<g id=\"node98\" class=\"node\">\n<title>VCMP2115</title>\n<ellipse fill=\"none\" stroke=\"black\" cx=\"4564.3\" cy=\"-162\" rx=\"53.89\" ry=\"18\"/>\n<text text-anchor=\"middle\" x=\"4564.3\" y=\"-158.3\" font-family=\"Times,serif\" font-size=\"14.00\">VCMP2115</text>\n</g>\n<!-- VPAI11808&#45;&gt;VCMP2115 -->\n<g id=\"edge97\" class=\"edge\">\n<title>VPAI11808&#45;&gt;VCMP2115</title>\n<path fill=\"none\" stroke=\"black\" d=\"M4618.06,-216.76C4609.18,-207.88 4598,-196.71 4588.15,-186.85\"/>\n<polygon fill=\"black\" stroke=\"black\" points=\"4590.47,-184.23 4580.93,-179.63 4585.52,-189.18 4590.47,-184.23\"/>\n</g>\n<!-- VADC41917 -->\n<g id=\"node99\" class=\"node\">\n<title>VADC41917</title>\n<ellipse fill=\"none\" stroke=\"black\" cx=\"4692.3\" cy=\"-162\" rx=\"56.59\" ry=\"18\"/>\n<text text-anchor=\"middle\" x=\"4692.3\" y=\"-158.3\" font-family=\"Times,serif\" font-size=\"14.00\">VADC41917</text>\n</g>\n<!-- VPAI11808&#45;&gt;VADC41917 -->\n<g id=\"edge98\" class=\"edge\">\n<title>VPAI11808&#45;&gt;VADC41917</title>\n<path fill=\"none\" stroke=\"black\" d=\"M4648.04,-216.41C4655.26,-207.69 4664.25,-196.85 4672.24,-187.21\"/>\n<polygon fill=\"black\" stroke=\"black\" points=\"4674.96,-189.4 4678.65,-179.47 4669.57,-184.94 4674.96,-189.4\"/>\n</g>\n<!-- VRAZ&#45;949 -->\n<g id=\"node101\" class=\"node\">\n<title>VRAZ&#45;949</title>\n<ellipse fill=\"none\" stroke=\"black\" cx=\"4817.3\" cy=\"-162\" rx=\"50.89\" ry=\"18\"/>\n<text text-anchor=\"middle\" x=\"4817.3\" y=\"-158.3\" font-family=\"Times,serif\" font-size=\"14.00\">VRAZ&#45;949</text>\n</g>\n<!-- VVVN2354&#45;&gt;VRAZ&#45;949 -->\n<g id=\"edge100\" class=\"edge\">\n<title>VVVN2354&#45;&gt;VRAZ&#45;949</title>\n<path fill=\"none\" stroke=\"black\" d=\"M4817.3,-215.7C4817.3,-207.98 4817.3,-198.71 4817.3,-190.11\"/>\n<polygon fill=\"black\" stroke=\"black\" points=\"4820.8,-190.1 4817.3,-180.1 4813.8,-190.1 4820.8,-190.1\"/>\n</g>\n<!-- VAEBH111172 -->\n<g id=\"node104\" class=\"node\">\n<title>VAEBH111172</title>\n<ellipse fill=\"none\" stroke=\"black\" cx=\"4952.3\" cy=\"-162\" rx=\"66.09\" ry=\"18\"/>\n<text text-anchor=\"middle\" x=\"4952.3\" y=\"-158.3\" font-family=\"Times,serif\" font-size=\"14.00\">VAEBH111172</text>\n</g>\n<!-- VVVN2354&#45;&gt;VAEBH111172 -->\n<g id=\"edge103\" class=\"edge\">\n<title>VVVN2354&#45;&gt;VAEBH111172</title>\n<path fill=\"none\" stroke=\"black\" d=\"M4845.27,-218.5C4865.14,-208.19 4892.06,-194.23 4913.93,-182.89\"/>\n<polygon fill=\"black\" stroke=\"black\" points=\"4915.69,-185.92 4922.96,-178.21 4912.47,-179.71 4915.69,-185.92\"/>\n</g>\n<!-- VGCS&#45;714501883 -->\n<g id=\"node102\" class=\"node\">\n<title>VGCS&#45;714501883</title>\n<ellipse fill=\"none\" stroke=\"black\" cx=\"4675.3\" cy=\"-90\" rx=\"76.89\" ry=\"18\"/>\n<text text-anchor=\"middle\" x=\"4675.3\" y=\"-86.3\" font-family=\"Times,serif\" font-size=\"14.00\">VGCS&#45;714501883</text>\n</g>\n<!-- VRAZ&#45;949&#45;&gt;VGCS&#45;714501883 -->\n<g id=\"edge101\" class=\"edge\">\n<title>VRAZ&#45;949&#45;&gt;VGCS&#45;714501883</title>\n<path fill=\"none\" stroke=\"black\" d=\"M4788.9,-147C4767.89,-136.65 4738.99,-122.4 4715.6,-110.87\"/>\n<polygon fill=\"black\" stroke=\"black\" points=\"4717.12,-107.72 4706.6,-106.43 4714.02,-113.99 4717.12,-107.72\"/>\n</g>\n<!-- VRPR8892 -->\n<g id=\"node103\" class=\"node\">\n<title>VRPR8892</title>\n<ellipse fill=\"none\" stroke=\"black\" cx=\"4821.3\" cy=\"-90\" rx=\"51.19\" ry=\"18\"/>\n<text text-anchor=\"middle\" x=\"4821.3\" y=\"-86.3\" font-family=\"Times,serif\" font-size=\"14.00\">VRPR8892</text>\n</g>\n<!-- VRAZ&#45;949&#45;&gt;VRPR8892 -->\n<g id=\"edge102\" class=\"edge\">\n<title>VRAZ&#45;949&#45;&gt;VRPR8892</title>\n<path fill=\"none\" stroke=\"black\" d=\"M4818.28,-143.7C4818.72,-135.98 4819.25,-126.71 4819.75,-118.11\"/>\n<polygon fill=\"black\" stroke=\"black\" points=\"4823.24,-118.29 4820.32,-108.1 4816.25,-117.89 4823.24,-118.29\"/>\n</g>\n<!-- VIAA1685 -->\n<g id=\"node105\" class=\"node\">\n<title>VIAA1685</title>\n<ellipse fill=\"none\" stroke=\"black\" cx=\"4948.3\" cy=\"-90\" rx=\"50.09\" ry=\"18\"/>\n<text text-anchor=\"middle\" x=\"4948.3\" y=\"-86.3\" font-family=\"Times,serif\" font-size=\"14.00\">VIAA1685</text>\n</g>\n<!-- VAEBH111172&#45;&gt;VIAA1685 -->\n<g id=\"edge104\" class=\"edge\">\n<title>VAEBH111172&#45;&gt;VIAA1685</title>\n<path fill=\"none\" stroke=\"black\" d=\"M4951.31,-143.7C4950.87,-135.98 4950.34,-126.71 4949.84,-118.11\"/>\n<polygon fill=\"black\" stroke=\"black\" points=\"4953.34,-117.89 4949.27,-108.1 4946.35,-118.29 4953.34,-117.89\"/>\n</g>\n<!-- VGAR1178 -->\n<g id=\"node106\" class=\"node\">\n<title>VGAR1178</title>\n<ellipse fill=\"none\" stroke=\"black\" cx=\"5069.3\" cy=\"-90\" rx=\"53.09\" ry=\"18\"/>\n<text text-anchor=\"middle\" x=\"5069.3\" y=\"-86.3\" font-family=\"Times,serif\" font-size=\"14.00\">VGAR1178</text>\n</g>\n<!-- VAEBH111172&#45;&gt;VGAR1178 -->\n<g id=\"edge105\" class=\"edge\">\n<title>VAEBH111172&#45;&gt;VGAR1178</title>\n<path fill=\"none\" stroke=\"black\" d=\"M4978.55,-145.29C4995.31,-135.27 5017.19,-122.17 5035.27,-111.36\"/>\n<polygon fill=\"black\" stroke=\"black\" points=\"5037.54,-114.08 5044.33,-105.94 5033.95,-108.07 5037.54,-114.08\"/>\n</g>\n<!-- VMAT12129 -->\n<g id=\"node108\" class=\"node\">\n<title>VMAT12129</title>\n<ellipse fill=\"none\" stroke=\"black\" cx=\"5421.3\" cy=\"-378\" rx=\"57.69\" ry=\"18\"/>\n<text text-anchor=\"middle\" x=\"5421.3\" y=\"-374.3\" font-family=\"Times,serif\" font-size=\"14.00\">VMAT12129</text>\n</g>\n<!-- VITEK3320&#45;&gt;VMAT12129 -->\n<g id=\"edge107\" class=\"edge\">\n<title>VITEK3320&#45;&gt;VMAT12129</title>\n<path fill=\"none\" stroke=\"black\" d=\"M5421.3,-431.7C5421.3,-423.98 5421.3,-414.71 5421.3,-406.11\"/>\n<polygon fill=\"black\" stroke=\"black\" points=\"5424.8,-406.1 5421.3,-396.1 5417.8,-406.1 5424.8,-406.1\"/>\n</g>\n<!-- VCYC10418 -->\n<g id=\"node123\" class=\"node\">\n<title>VCYC10418</title>\n<ellipse fill=\"none\" stroke=\"black\" cx=\"6104.3\" cy=\"-378\" rx=\"57.39\" ry=\"18\"/>\n<text text-anchor=\"middle\" x=\"6104.3\" y=\"-374.3\" font-family=\"Times,serif\" font-size=\"14.00\">VCYC10418</text>\n</g>\n<!-- VITEK3320&#45;&gt;VCYC10418 -->\n<g id=\"edge122\" class=\"edge\">\n<title>VITEK3320&#45;&gt;VCYC10418</title>\n<path fill=\"none\" stroke=\"black\" d=\"M5472.63,-443.74C5595.39,-431.16 5905.68,-399.36 6040.32,-385.56\"/>\n<polygon fill=\"black\" stroke=\"black\" points=\"6040.89,-389.02 6050.48,-384.52 6040.17,-382.05 6040.89,-389.02\"/>\n</g>\n<!-- VSHI&#45;10 -->\n<g id=\"node109\" class=\"node\">\n<title>VSHI&#45;10</title>\n<ellipse fill=\"none\" stroke=\"black\" cx=\"5351.3\" cy=\"-306\" rx=\"42.79\" ry=\"18\"/>\n<text text-anchor=\"middle\" x=\"5351.3\" y=\"-302.3\" font-family=\"Times,serif\" font-size=\"14.00\">VSHI&#45;10</text>\n</g>\n<!-- VMAT12129&#45;&gt;VSHI&#45;10 -->\n<g id=\"edge108\" class=\"edge\">\n<title>VMAT12129&#45;&gt;VSHI&#45;10</title>\n<path fill=\"none\" stroke=\"black\" d=\"M5404.71,-360.41C5395.69,-351.39 5384.38,-340.09 5374.5,-330.21\"/>\n<polygon fill=\"black\" stroke=\"black\" points=\"5376.83,-327.58 5367.28,-322.99 5371.88,-332.53 5376.83,-327.58\"/>\n</g>\n<!-- VSUR&#45;10416 -->\n<g id=\"node114\" class=\"node\">\n<title>VSUR&#45;10416</title>\n<ellipse fill=\"none\" stroke=\"black\" cx=\"5490.3\" cy=\"-306\" rx=\"59.29\" ry=\"18\"/>\n<text text-anchor=\"middle\" x=\"5490.3\" y=\"-302.3\" font-family=\"Times,serif\" font-size=\"14.00\">VSUR&#45;10416</text>\n</g>\n<!-- VMAT12129&#45;&gt;VSUR&#45;10416 -->\n<g id=\"edge113\" class=\"edge\">\n<title>VMAT12129&#45;&gt;VSUR&#45;10416</title>\n<path fill=\"none\" stroke=\"black\" d=\"M5437.65,-360.41C5446.41,-351.52 5457.36,-340.41 5467,-330.63\"/>\n<polygon fill=\"black\" stroke=\"black\" points=\"5469.53,-333.05 5474.06,-323.47 5464.55,-328.13 5469.53,-333.05\"/>\n</g>\n<!-- VKWR10404414 -->\n<g id=\"node110\" class=\"node\">\n<title>VKWR10404414</title>\n<ellipse fill=\"none\" stroke=\"black\" cx=\"5202.3\" cy=\"-234\" rx=\"73.39\" ry=\"18\"/>\n<text text-anchor=\"middle\" x=\"5202.3\" y=\"-230.3\" font-family=\"Times,serif\" font-size=\"14.00\">VKWR10404414</text>\n</g>\n<!-- VSHI&#45;10&#45;&gt;VKWR10404414 -->\n<g id=\"edge109\" class=\"edge\">\n<title>VSHI&#45;10&#45;&gt;VKWR10404414</title>\n<path fill=\"none\" stroke=\"black\" d=\"M5323.62,-292C5301.21,-281.47 5269.29,-266.47 5243.82,-254.51\"/>\n<polygon fill=\"black\" stroke=\"black\" points=\"5245.29,-251.33 5234.75,-250.25 5242.31,-257.67 5245.29,-251.33\"/>\n</g>\n<!-- VBNC90787 -->\n<g id=\"node113\" class=\"node\">\n<title>VBNC90787</title>\n<ellipse fill=\"none\" stroke=\"black\" cx=\"5351.3\" cy=\"-234\" rx=\"57.39\" ry=\"18\"/>\n<text text-anchor=\"middle\" x=\"5351.3\" y=\"-230.3\" font-family=\"Times,serif\" font-size=\"14.00\">VBNC90787</text>\n</g>\n<!-- VSHI&#45;10&#45;&gt;VBNC90787 -->\n<g id=\"edge112\" class=\"edge\">\n<title>VSHI&#45;10&#45;&gt;VBNC90787</title>\n<path fill=\"none\" stroke=\"black\" d=\"M5351.3,-287.7C5351.3,-279.98 5351.3,-270.71 5351.3,-262.11\"/>\n<polygon fill=\"black\" stroke=\"black\" points=\"5354.8,-262.1 5351.3,-252.1 5347.8,-262.1 5354.8,-262.1\"/>\n</g>\n<!-- VVVN2533 -->\n<g id=\"node111\" class=\"node\">\n<title>VVVN2533</title>\n<ellipse fill=\"none\" stroke=\"black\" cx=\"5090.3\" cy=\"-162\" rx=\"53.89\" ry=\"18\"/>\n<text text-anchor=\"middle\" x=\"5090.3\" y=\"-158.3\" font-family=\"Times,serif\" font-size=\"14.00\">VVVN2533</text>\n</g>\n<!-- VKWR10404414&#45;&gt;VVVN2533 -->\n<g id=\"edge110\" class=\"edge\">\n<title>VKWR10404414&#45;&gt;VVVN2533</title>\n<path fill=\"none\" stroke=\"black\" d=\"M5176.6,-216.94C5160.76,-207.04 5140.29,-194.25 5123.27,-183.61\"/>\n<polygon fill=\"black\" stroke=\"black\" points=\"5125.05,-180.6 5114.72,-178.26 5121.34,-186.53 5125.05,-180.6\"/>\n</g>\n<!-- VMER208444 -->\n<g id=\"node112\" class=\"node\">\n<title>VMER208444</title>\n<ellipse fill=\"none\" stroke=\"black\" cx=\"5225.3\" cy=\"-162\" rx=\"63.09\" ry=\"18\"/>\n<text text-anchor=\"middle\" x=\"5225.3\" y=\"-158.3\" font-family=\"Times,serif\" font-size=\"14.00\">VMER208444</text>\n</g>\n<!-- VKWR10404414&#45;&gt;VMER208444 -->\n<g id=\"edge111\" class=\"edge\">\n<title>VKWR10404414&#45;&gt;VMER208444</title>\n<path fill=\"none\" stroke=\"black\" d=\"M5207.98,-215.7C5210.54,-207.9 5213.63,-198.51 5216.48,-189.83\"/>\n<polygon fill=\"black\" stroke=\"black\" points=\"5219.88,-190.7 5219.68,-180.1 5213.23,-188.51 5219.88,-190.7\"/>\n</g>\n<!-- VMIS1048039 -->\n<g id=\"node115\" class=\"node\">\n<title>VMIS1048039</title>\n<ellipse fill=\"none\" stroke=\"black\" cx=\"5490.3\" cy=\"-234\" rx=\"63.89\" ry=\"18\"/>\n<text text-anchor=\"middle\" x=\"5490.3\" y=\"-230.3\" font-family=\"Times,serif\" font-size=\"14.00\">VMIS1048039</text>\n</g>\n<!-- VSUR&#45;10416&#45;&gt;VMIS1048039 -->\n<g id=\"edge114\" class=\"edge\">\n<title>VSUR&#45;10416&#45;&gt;VMIS1048039</title>\n<path fill=\"none\" stroke=\"black\" d=\"M5490.3,-287.7C5490.3,-279.98 5490.3,-270.71 5490.3,-262.11\"/>\n<polygon fill=\"black\" stroke=\"black\" points=\"5493.8,-262.1 5490.3,-252.1 5486.8,-262.1 5493.8,-262.1\"/>\n</g>\n<!-- VCYC11038 -->\n<g id=\"node120\" class=\"node\">\n<title>VCYC11038</title>\n<ellipse fill=\"none\" stroke=\"black\" cx=\"5635.3\" cy=\"-234\" rx=\"57.39\" ry=\"18\"/>\n<text text-anchor=\"middle\" x=\"5635.3\" y=\"-230.3\" font-family=\"Times,serif\" font-size=\"14.00\">VCYC11038</text>\n</g>\n<!-- VSUR&#45;10416&#45;&gt;VCYC11038 -->\n<g id=\"edge119\" class=\"edge\">\n<title>VSUR&#45;10416&#45;&gt;VCYC11038</title>\n<path fill=\"none\" stroke=\"black\" d=\"M5520.69,-290.33C5542.69,-279.71 5572.59,-265.27 5596.34,-253.81\"/>\n<polygon fill=\"black\" stroke=\"black\" points=\"5597.95,-256.91 5605.44,-249.42 5594.91,-250.61 5597.95,-256.91\"/>\n</g>\n<!-- VFNC10498 -->\n<g id=\"node116\" class=\"node\">\n<title>VFNC10498</title>\n<ellipse fill=\"none\" stroke=\"black\" cx=\"5362.3\" cy=\"-162\" rx=\"55.79\" ry=\"18\"/>\n<text text-anchor=\"middle\" x=\"5362.3\" y=\"-158.3\" font-family=\"Times,serif\" font-size=\"14.00\">VFNC10498</text>\n</g>\n<!-- VMIS1048039&#45;&gt;VFNC10498 -->\n<g id=\"edge115\" class=\"edge\">\n<title>VMIS1048039&#45;&gt;VFNC10498</title>\n<path fill=\"none\" stroke=\"black\" d=\"M5462.21,-217.64C5443.44,-207.38 5418.59,-193.79 5398.37,-182.73\"/>\n<polygon fill=\"black\" stroke=\"black\" points=\"5399.9,-179.57 5389.44,-177.85 5396.54,-185.71 5399.9,-179.57\"/>\n</g>\n<!-- VMTB2711 -->\n<g id=\"node117\" class=\"node\">\n<title>VMTB2711</title>\n<ellipse fill=\"none\" stroke=\"black\" cx=\"5490.3\" cy=\"-162\" rx=\"53.89\" ry=\"18\"/>\n<text text-anchor=\"middle\" x=\"5490.3\" y=\"-158.3\" font-family=\"Times,serif\" font-size=\"14.00\">VMTB2711</text>\n</g>\n<!-- VMIS1048039&#45;&gt;VMTB2711 -->\n<g id=\"edge116\" class=\"edge\">\n<title>VMIS1048039&#45;&gt;VMTB2711</title>\n<path fill=\"none\" stroke=\"black\" d=\"M5490.3,-215.7C5490.3,-207.98 5490.3,-198.71 5490.3,-190.11\"/>\n<polygon fill=\"black\" stroke=\"black\" points=\"5493.8,-190.1 5490.3,-180.1 5486.8,-190.1 5493.8,-190.1\"/>\n</g>\n<!-- VARE61717 -->\n<g id=\"node118\" class=\"node\">\n<title>VARE61717</title>\n<ellipse fill=\"none\" stroke=\"black\" cx=\"5425.3\" cy=\"-90\" rx=\"55.79\" ry=\"18\"/>\n<text text-anchor=\"middle\" x=\"5425.3\" y=\"-86.3\" font-family=\"Times,serif\" font-size=\"14.00\">VARE61717</text>\n</g>\n<!-- VMTB2711&#45;&gt;VARE61717 -->\n<g id=\"edge117\" class=\"edge\">\n<title>VMTB2711&#45;&gt;VARE61717</title>\n<path fill=\"none\" stroke=\"black\" d=\"M5474.89,-144.41C5466.72,-135.61 5456.52,-124.63 5447.51,-114.92\"/>\n<polygon fill=\"black\" stroke=\"black\" points=\"5449.96,-112.42 5440.59,-107.47 5444.83,-117.18 5449.96,-112.42\"/>\n</g>\n<!-- VSUR10510 -->\n<g id=\"node119\" class=\"node\">\n<title>VSUR10510</title>\n<ellipse fill=\"none\" stroke=\"black\" cx=\"5555.3\" cy=\"-90\" rx=\"55.79\" ry=\"18\"/>\n<text text-anchor=\"middle\" x=\"5555.3\" y=\"-86.3\" font-family=\"Times,serif\" font-size=\"14.00\">VSUR10510</text>\n</g>\n<!-- VMTB2711&#45;&gt;VSUR10510 -->\n<g id=\"edge118\" class=\"edge\">\n<title>VMTB2711&#45;&gt;VSUR10510</title>\n<path fill=\"none\" stroke=\"black\" d=\"M5505.7,-144.41C5513.88,-135.61 5524.07,-124.63 5533.08,-114.92\"/>\n<polygon fill=\"black\" stroke=\"black\" points=\"5535.76,-117.18 5540,-107.47 5530.63,-112.42 5535.76,-117.18\"/>\n</g>\n<!-- VKWC11902587 -->\n<g id=\"node121\" class=\"node\">\n<title>VKWC11902587</title>\n<ellipse fill=\"none\" stroke=\"black\" cx=\"5635.3\" cy=\"-162\" rx=\"73.39\" ry=\"18\"/>\n<text text-anchor=\"middle\" x=\"5635.3\" y=\"-158.3\" font-family=\"Times,serif\" font-size=\"14.00\">VKWC11902587</text>\n</g>\n<!-- VCYC11038&#45;&gt;VKWC11902587 -->\n<g id=\"edge120\" class=\"edge\">\n<title>VCYC11038&#45;&gt;VKWC11902587</title>\n<path fill=\"none\" stroke=\"black\" d=\"M5635.3,-215.7C5635.3,-207.98 5635.3,-198.71 5635.3,-190.11\"/>\n<polygon fill=\"black\" stroke=\"black\" points=\"5638.8,-190.1 5635.3,-180.1 5631.8,-190.1 5638.8,-190.1\"/>\n</g>\n<!-- VMAT12265 -->\n<g id=\"node122\" class=\"node\">\n<title>VMAT12265</title>\n<ellipse fill=\"none\" stroke=\"black\" cx=\"5784.3\" cy=\"-162\" rx=\"57.69\" ry=\"18\"/>\n<text text-anchor=\"middle\" x=\"5784.3\" y=\"-158.3\" font-family=\"Times,serif\" font-size=\"14.00\">VMAT12265</text>\n</g>\n<!-- VCYC11038&#45;&gt;VMAT12265 -->\n<g id=\"edge121\" class=\"edge\">\n<title>VCYC11038&#45;&gt;VMAT12265</title>\n<path fill=\"none\" stroke=\"black\" d=\"M5665.81,-218.67C5688.61,-207.95 5719.97,-193.22 5744.7,-181.6\"/>\n<polygon fill=\"black\" stroke=\"black\" points=\"5746.26,-184.74 5753.82,-177.32 5743.28,-178.4 5746.26,-184.74\"/>\n</g>\n<!-- VINP22297 -->\n<g id=\"node124\" class=\"node\">\n<title>VINP22297</title>\n<ellipse fill=\"none\" stroke=\"black\" cx=\"6104.3\" cy=\"-306\" rx=\"53.09\" ry=\"18\"/>\n<text text-anchor=\"middle\" x=\"6104.3\" y=\"-302.3\" font-family=\"Times,serif\" font-size=\"14.00\">VINP22297</text>\n</g>\n<!-- VCYC10418&#45;&gt;VINP22297 -->\n<g id=\"edge123\" class=\"edge\">\n<title>VCYC10418&#45;&gt;VINP22297</title>\n<path fill=\"none\" stroke=\"black\" d=\"M6104.3,-359.7C6104.3,-351.98 6104.3,-342.71 6104.3,-334.11\"/>\n<polygon fill=\"black\" stroke=\"black\" points=\"6107.8,-334.1 6104.3,-324.1 6100.8,-334.1 6107.8,-334.1\"/>\n</g>\n<!-- VBKS2721 -->\n<g id=\"node138\" class=\"node\">\n<title>VBKS2721</title>\n<ellipse fill=\"none\" stroke=\"black\" cx=\"6606.3\" cy=\"-306\" rx=\"51.99\" ry=\"18\"/>\n<text text-anchor=\"middle\" x=\"6606.3\" y=\"-302.3\" font-family=\"Times,serif\" font-size=\"14.00\">VBKS2721</text>\n</g>\n<!-- VCYC10418&#45;&gt;VBKS2721 -->\n<g id=\"edge137\" class=\"edge\">\n<title>VCYC10418&#45;&gt;VBKS2721</title>\n<path fill=\"none\" stroke=\"black\" d=\"M6155.66,-369.84C6250.03,-356.68 6450.34,-328.75 6548.98,-314.99\"/>\n<polygon fill=\"black\" stroke=\"black\" points=\"6549.64,-318.43 6559.06,-313.59 6548.67,-311.5 6549.64,-318.43\"/>\n</g>\n<!-- VARE76073 -->\n<g id=\"node125\" class=\"node\">\n<title>VARE76073</title>\n<ellipse fill=\"none\" stroke=\"black\" cx=\"6028.3\" cy=\"-234\" rx=\"55.79\" ry=\"18\"/>\n<text text-anchor=\"middle\" x=\"6028.3\" y=\"-230.3\" font-family=\"Times,serif\" font-size=\"14.00\">VARE76073</text>\n</g>\n<!-- VINP22297&#45;&gt;VARE76073 -->\n<g id=\"edge124\" class=\"edge\">\n<title>VINP22297&#45;&gt;VARE76073</title>\n<path fill=\"none\" stroke=\"black\" d=\"M6086.67,-288.76C6076.79,-279.66 6064.3,-268.16 6053.41,-258.13\"/>\n<polygon fill=\"black\" stroke=\"black\" points=\"6055.55,-255.35 6045.83,-251.15 6050.81,-260.5 6055.55,-255.35\"/>\n</g>\n<!-- VGCS&#45;714501960 -->\n<g id=\"node131\" class=\"node\">\n<title>VGCS&#45;714501960</title>\n<ellipse fill=\"none\" stroke=\"black\" cx=\"6179.3\" cy=\"-234\" rx=\"76.89\" ry=\"18\"/>\n<text text-anchor=\"middle\" x=\"6179.3\" y=\"-230.3\" font-family=\"Times,serif\" font-size=\"14.00\">VGCS&#45;714501960</text>\n</g>\n<!-- VINP22297&#45;&gt;VGCS&#45;714501960 -->\n<g id=\"edge130\" class=\"edge\">\n<title>VINP22297&#45;&gt;VGCS&#45;714501960</title>\n<path fill=\"none\" stroke=\"black\" d=\"M6121.69,-288.76C6131.3,-279.79 6143.41,-268.49 6154.05,-258.56\"/>\n<polygon fill=\"black\" stroke=\"black\" points=\"6156.55,-261.02 6161.47,-251.63 6151.78,-255.9 6156.55,-261.02\"/>\n</g>\n<!-- VRPR7823 -->\n<g id=\"node126\" class=\"node\">\n<title>VRPR7823</title>\n<ellipse fill=\"none\" stroke=\"black\" cx=\"5911.3\" cy=\"-162\" rx=\"51.19\" ry=\"18\"/>\n<text text-anchor=\"middle\" x=\"5911.3\" y=\"-158.3\" font-family=\"Times,serif\" font-size=\"14.00\">VRPR7823</text>\n</g>\n<!-- VARE76073&#45;&gt;VRPR7823 -->\n<g id=\"edge125\" class=\"edge\">\n<title>VARE76073&#45;&gt;VRPR7823</title>\n<path fill=\"none\" stroke=\"black\" d=\"M6002.91,-217.81C5985.93,-207.65 5963.4,-194.17 5944.93,-183.12\"/>\n<polygon fill=\"black\" stroke=\"black\" points=\"5946.61,-180.05 5936.23,-177.92 5943.02,-186.06 5946.61,-180.05\"/>\n</g>\n<!-- VRAZ976 -->\n<g id=\"node129\" class=\"node\">\n<title>VRAZ976</title>\n<ellipse fill=\"none\" stroke=\"black\" cx=\"6033.3\" cy=\"-162\" rx=\"48.19\" ry=\"18\"/>\n<text text-anchor=\"middle\" x=\"6033.3\" y=\"-158.3\" font-family=\"Times,serif\" font-size=\"14.00\">VRAZ976</text>\n</g>\n<!-- VARE76073&#45;&gt;VRAZ976 -->\n<g id=\"edge128\" class=\"edge\">\n<title>VARE76073&#45;&gt;VRAZ976</title>\n<path fill=\"none\" stroke=\"black\" d=\"M6029.53,-215.7C6030.08,-207.98 6030.74,-198.71 6031.36,-190.11\"/>\n<polygon fill=\"black\" stroke=\"black\" points=\"6034.85,-190.33 6032.07,-180.1 6027.87,-189.83 6034.85,-190.33\"/>\n</g>\n<!-- VMAT12452 -->\n<g id=\"node127\" class=\"node\">\n<title>VMAT12452</title>\n<ellipse fill=\"none\" stroke=\"black\" cx=\"5776.3\" cy=\"-90\" rx=\"57.69\" ry=\"18\"/>\n<text text-anchor=\"middle\" x=\"5776.3\" y=\"-86.3\" font-family=\"Times,serif\" font-size=\"14.00\">VMAT12452</text>\n</g>\n<!-- VRPR7823&#45;&gt;VMAT12452 -->\n<g id=\"edge126\" class=\"edge\">\n<title>VRPR7823&#45;&gt;VMAT12452</title>\n<path fill=\"none\" stroke=\"black\" d=\"M5883.65,-146.67C5863.54,-136.24 5836.07,-121.99 5813.95,-110.52\"/>\n<polygon fill=\"black\" stroke=\"black\" points=\"5815.32,-107.29 5804.83,-105.8 5812.1,-113.51 5815.32,-107.29\"/>\n</g>\n<!-- VSUR10547 -->\n<g id=\"node128\" class=\"node\">\n<title>VSUR10547</title>\n<ellipse fill=\"none\" stroke=\"black\" cx=\"5908.3\" cy=\"-90\" rx=\"55.79\" ry=\"18\"/>\n<text text-anchor=\"middle\" x=\"5908.3\" y=\"-86.3\" font-family=\"Times,serif\" font-size=\"14.00\">VSUR10547</text>\n</g>\n<!-- VRPR7823&#45;&gt;VSUR10547 -->\n<g id=\"edge127\" class=\"edge\">\n<title>VRPR7823&#45;&gt;VSUR10547</title>\n<path fill=\"none\" stroke=\"black\" d=\"M5910.55,-143.7C5910.22,-135.98 5909.83,-126.71 5909.46,-118.11\"/>\n<polygon fill=\"black\" stroke=\"black\" points=\"5912.95,-117.95 5909.03,-108.1 5905.96,-118.25 5912.95,-117.95\"/>\n</g>\n<!-- VOCH1916 -->\n<g id=\"node130\" class=\"node\">\n<title>VOCH1916</title>\n<ellipse fill=\"none\" stroke=\"black\" cx=\"6035.3\" cy=\"-90\" rx=\"53.09\" ry=\"18\"/>\n<text text-anchor=\"middle\" x=\"6035.3\" y=\"-86.3\" font-family=\"Times,serif\" font-size=\"14.00\">VOCH1916</text>\n</g>\n<!-- VRAZ976&#45;&gt;VOCH1916 -->\n<g id=\"edge129\" class=\"edge\">\n<title>VRAZ976&#45;&gt;VOCH1916</title>\n<path fill=\"none\" stroke=\"black\" d=\"M6033.79,-143.7C6034.01,-135.98 6034.27,-126.71 6034.52,-118.11\"/>\n<polygon fill=\"black\" stroke=\"black\" points=\"6038.02,-118.2 6034.81,-108.1 6031.02,-118 6038.02,-118.2\"/>\n</g>\n<!-- VMER208762 -->\n<g id=\"node132\" class=\"node\">\n<title>VMER208762</title>\n<ellipse fill=\"none\" stroke=\"black\" cx=\"6178.3\" cy=\"-162\" rx=\"63.09\" ry=\"18\"/>\n<text text-anchor=\"middle\" x=\"6178.3\" y=\"-158.3\" font-family=\"Times,serif\" font-size=\"14.00\">VMER208762</text>\n</g>\n<!-- VGCS&#45;714501960&#45;&gt;VMER208762 -->\n<g id=\"edge131\" class=\"edge\">\n<title>VGCS&#45;714501960&#45;&gt;VMER208762</title>\n<path fill=\"none\" stroke=\"black\" d=\"M6179.05,-215.7C6178.94,-207.98 6178.81,-198.71 6178.68,-190.11\"/>\n<polygon fill=\"black\" stroke=\"black\" points=\"6182.18,-190.05 6178.54,-180.1 6175.18,-190.15 6182.18,-190.05\"/>\n</g>\n<!-- VRCR8482 -->\n<g id=\"node134\" class=\"node\">\n<title>VRCR8482</title>\n<ellipse fill=\"none\" stroke=\"black\" cx=\"6325.3\" cy=\"-162\" rx=\"51.99\" ry=\"18\"/>\n<text text-anchor=\"middle\" x=\"6325.3\" y=\"-158.3\" font-family=\"Times,serif\" font-size=\"14.00\">VRCR8482</text>\n</g>\n<!-- VGCS&#45;714501960&#45;&gt;VRCR8482 -->\n<g id=\"edge133\" class=\"edge\">\n<title>VGCS&#45;714501960&#45;&gt;VRCR8482</title>\n<path fill=\"none\" stroke=\"black\" d=\"M6211.34,-217.64C6233.47,-207.03 6263.03,-192.85 6286.5,-181.6\"/>\n<polygon fill=\"black\" stroke=\"black\" points=\"6288.31,-184.61 6295.81,-177.14 6285.28,-178.3 6288.31,-184.61\"/>\n</g>\n<!-- VONE12113027 -->\n<g id=\"node133\" class=\"node\">\n<title>VONE12113027</title>\n<ellipse fill=\"none\" stroke=\"black\" cx=\"6176.3\" cy=\"-90\" rx=\"70.39\" ry=\"18\"/>\n<text text-anchor=\"middle\" x=\"6176.3\" y=\"-86.3\" font-family=\"Times,serif\" font-size=\"14.00\">VONE12113027</text>\n</g>\n<!-- VMER208762&#45;&gt;VONE12113027 -->\n<g id=\"edge132\" class=\"edge\">\n<title>VMER208762&#45;&gt;VONE12113027</title>\n<path fill=\"none\" stroke=\"black\" d=\"M6177.8,-143.7C6177.58,-135.98 6177.32,-126.71 6177.07,-118.11\"/>\n<polygon fill=\"black\" stroke=\"black\" points=\"6180.57,-118 6176.78,-108.1 6173.57,-118.2 6180.57,-118\"/>\n</g>\n<!-- VSUR111710 -->\n<g id=\"node135\" class=\"node\">\n<title>VSUR111710</title>\n<ellipse fill=\"none\" stroke=\"black\" cx=\"6325.3\" cy=\"-90\" rx=\"60.39\" ry=\"18\"/>\n<text text-anchor=\"middle\" x=\"6325.3\" y=\"-86.3\" font-family=\"Times,serif\" font-size=\"14.00\">VSUR111710</text>\n</g>\n<!-- VRCR8482&#45;&gt;VSUR111710 -->\n<g id=\"edge134\" class=\"edge\">\n<title>VRCR8482&#45;&gt;VSUR111710</title>\n<path fill=\"none\" stroke=\"black\" d=\"M6325.3,-143.7C6325.3,-135.98 6325.3,-126.71 6325.3,-118.11\"/>\n<polygon fill=\"black\" stroke=\"black\" points=\"6328.8,-118.1 6325.3,-108.1 6321.8,-118.1 6328.8,-118.1\"/>\n</g>\n<!-- VREI18159 -->\n<g id=\"node137\" class=\"node\">\n<title>VREI18159</title>\n<ellipse fill=\"none\" stroke=\"black\" cx=\"6457.3\" cy=\"-90\" rx=\"53.09\" ry=\"18\"/>\n<text text-anchor=\"middle\" x=\"6457.3\" y=\"-86.3\" font-family=\"Times,serif\" font-size=\"14.00\">VREI18159</text>\n</g>\n<!-- VRCR8482&#45;&gt;VREI18159 -->\n<g id=\"edge136\" class=\"edge\">\n<title>VRCR8482&#45;&gt;VREI18159</title>\n<path fill=\"none\" stroke=\"black\" d=\"M6352.65,-146.5C6372.47,-135.98 6399.47,-121.66 6421.08,-110.2\"/>\n<polygon fill=\"black\" stroke=\"black\" points=\"6422.78,-113.26 6429.98,-105.49 6419.51,-107.08 6422.78,-113.26\"/>\n</g>\n<!-- VMIS1038013 -->\n<g id=\"node136\" class=\"node\">\n<title>VMIS1038013</title>\n<ellipse fill=\"none\" stroke=\"black\" cx=\"6325.3\" cy=\"-18\" rx=\"63.89\" ry=\"18\"/>\n<text text-anchor=\"middle\" x=\"6325.3\" y=\"-14.3\" font-family=\"Times,serif\" font-size=\"14.00\">VMIS1038013</text>\n</g>\n<!-- VSUR111710&#45;&gt;VMIS1038013 -->\n<g id=\"edge135\" class=\"edge\">\n<title>VSUR111710&#45;&gt;VMIS1038013</title>\n<path fill=\"none\" stroke=\"black\" d=\"M6325.3,-71.7C6325.3,-63.98 6325.3,-54.71 6325.3,-46.11\"/>\n<polygon fill=\"black\" stroke=\"black\" points=\"6328.8,-46.1 6325.3,-36.1 6321.8,-46.1 6328.8,-46.1\"/>\n</g>\n<!-- VREI18144 -->\n<g id=\"node139\" class=\"node\">\n<title>VREI18144</title>\n<ellipse fill=\"none\" stroke=\"black\" cx=\"6606.3\" cy=\"-234\" rx=\"53.09\" ry=\"18\"/>\n<text text-anchor=\"middle\" x=\"6606.3\" y=\"-230.3\" font-family=\"Times,serif\" font-size=\"14.00\">VREI18144</text>\n</g>\n<!-- VBKS2721&#45;&gt;VREI18144 -->\n<g id=\"edge138\" class=\"edge\">\n<title>VBKS2721&#45;&gt;VREI18144</title>\n<path fill=\"none\" stroke=\"black\" d=\"M6606.3,-287.7C6606.3,-279.98 6606.3,-270.71 6606.3,-262.11\"/>\n<polygon fill=\"black\" stroke=\"black\" points=\"6609.8,-262.1 6606.3,-252.1 6602.8,-262.1 6609.8,-262.1\"/>\n</g>\n<!-- V3412177 -->\n<g id=\"node143\" class=\"node\">\n<title>V3412177</title>\n<ellipse fill=\"none\" stroke=\"black\" cx=\"6803.3\" cy=\"-234\" rx=\"48.19\" ry=\"18\"/>\n<text text-anchor=\"middle\" x=\"6803.3\" y=\"-230.3\" font-family=\"Times,serif\" font-size=\"14.00\">V3412177</text>\n</g>\n<!-- VBKS2721&#45;&gt;V3412177 -->\n<g id=\"edge142\" class=\"edge\">\n<title>VBKS2721&#45;&gt;V3412177</title>\n<path fill=\"none\" stroke=\"black\" d=\"M6641.51,-292.49C6674.7,-280.7 6724.49,-263 6760.06,-250.36\"/>\n<polygon fill=\"black\" stroke=\"black\" points=\"6761.44,-253.59 6769.7,-246.94 6759.1,-246.99 6761.44,-253.59\"/>\n</g>\n<!-- VGIG1144050806 -->\n<g id=\"node140\" class=\"node\">\n<title>VGIG1144050806</title>\n<ellipse fill=\"none\" stroke=\"black\" cx=\"6532.3\" cy=\"-162\" rx=\"76.89\" ry=\"18\"/>\n<text text-anchor=\"middle\" x=\"6532.3\" y=\"-158.3\" font-family=\"Times,serif\" font-size=\"14.00\">VGIG1144050806</text>\n</g>\n<!-- VREI18144&#45;&gt;VGIG1144050806 -->\n<g id=\"edge139\" class=\"edge\">\n<title>VREI18144&#45;&gt;VGIG1144050806</title>\n<path fill=\"none\" stroke=\"black\" d=\"M6589.13,-216.76C6579.65,-207.79 6567.7,-196.49 6557.21,-186.56\"/>\n<polygon fill=\"black\" stroke=\"black\" points=\"6559.55,-183.96 6549.88,-179.63 6554.74,-189.05 6559.55,-183.96\"/>\n</g>\n<!-- VREI18142 -->\n<g id=\"node142\" class=\"node\">\n<title>VREI18142</title>\n<ellipse fill=\"none\" stroke=\"black\" cx=\"6680.3\" cy=\"-162\" rx=\"53.09\" ry=\"18\"/>\n<text text-anchor=\"middle\" x=\"6680.3\" y=\"-158.3\" font-family=\"Times,serif\" font-size=\"14.00\">VREI18142</text>\n</g>\n<!-- VREI18144&#45;&gt;VREI18142 -->\n<g id=\"edge141\" class=\"edge\">\n<title>VREI18144&#45;&gt;VREI18142</title>\n<path fill=\"none\" stroke=\"black\" d=\"M6623.46,-216.76C6633.08,-207.66 6645.24,-196.16 6655.84,-186.13\"/>\n<polygon fill=\"black\" stroke=\"black\" points=\"6658.37,-188.56 6663.23,-179.15 6653.56,-183.48 6658.37,-188.56\"/>\n</g>\n<!-- VGES1474260 -->\n<g id=\"node141\" class=\"node\">\n<title>VGES1474260</title>\n<ellipse fill=\"none\" stroke=\"black\" cx=\"6593.3\" cy=\"-90\" rx=\"64.19\" ry=\"18\"/>\n<text text-anchor=\"middle\" x=\"6593.3\" y=\"-86.3\" font-family=\"Times,serif\" font-size=\"14.00\">VGES1474260</text>\n</g>\n<!-- VGIG1144050806&#45;&gt;VGES1474260 -->\n<g id=\"edge140\" class=\"edge\">\n<title>VGIG1144050806&#45;&gt;VGES1474260</title>\n<path fill=\"none\" stroke=\"black\" d=\"M6547.06,-144.05C6554.55,-135.46 6563.79,-124.86 6572.03,-115.4\"/>\n<polygon fill=\"black\" stroke=\"black\" points=\"6574.73,-117.63 6578.66,-107.79 6569.46,-113.03 6574.73,-117.63\"/>\n</g>\n<!-- VBKS1914 -->\n<g id=\"node144\" class=\"node\">\n<title>VBKS1914</title>\n<ellipse fill=\"none\" stroke=\"black\" cx=\"6803.3\" cy=\"-162\" rx=\"51.99\" ry=\"18\"/>\n<text text-anchor=\"middle\" x=\"6803.3\" y=\"-158.3\" font-family=\"Times,serif\" font-size=\"14.00\">VBKS1914</text>\n</g>\n<!-- V3412177&#45;&gt;VBKS1914 -->\n<g id=\"edge143\" class=\"edge\">\n<title>V3412177&#45;&gt;VBKS1914</title>\n<path fill=\"none\" stroke=\"black\" d=\"M6803.3,-215.7C6803.3,-207.98 6803.3,-198.71 6803.3,-190.11\"/>\n<polygon fill=\"black\" stroke=\"black\" points=\"6806.8,-190.1 6803.3,-180.1 6799.8,-190.1 6806.8,-190.1\"/>\n</g>\n<!-- VMIS1054007 -->\n<g id=\"node145\" class=\"node\">\n<title>VMIS1054007</title>\n<ellipse fill=\"none\" stroke=\"black\" cx=\"6937.3\" cy=\"-162\" rx=\"63.89\" ry=\"18\"/>\n<text text-anchor=\"middle\" x=\"6937.3\" y=\"-158.3\" font-family=\"Times,serif\" font-size=\"14.00\">VMIS1054007</text>\n</g>\n<!-- V3412177&#45;&gt;VMIS1054007 -->\n<g id=\"edge144\" class=\"edge\">\n<title>V3412177&#45;&gt;VMIS1054007</title>\n<path fill=\"none\" stroke=\"black\" d=\"M6830.09,-219C6849.87,-208.67 6877.07,-194.46 6899.13,-182.94\"/>\n<polygon fill=\"black\" stroke=\"black\" points=\"6900.98,-185.92 6908.22,-178.19 6897.74,-179.71 6900.98,-185.92\"/>\n</g>\n</g>\n</svg>\n",
            "text/plain": [
              "<graphviz.graphs.Digraph at 0x7d16a3f3d660>"
            ]
          },
          "metadata": {},
          "execution_count": 140
        }
      ],
      "source": [
        "tree.plot_tree()"
      ]
    },
    {
      "cell_type": "markdown",
      "metadata": {
        "id": "gdv9b_4-bBZs"
      },
      "source": [
        "1. INSERTAR NODO"
      ]
    },
    {
      "cell_type": "code",
      "execution_count": null,
      "metadata": {
        "id": "Or-WFip4GNeh"
      },
      "outputs": [],
      "source": [
        "txt = [\"Titulo\" , \"Departamento\", \"Ciudad\" ,\"Tipo de propiedad\", \"Latitud\", \"Longitud\", \"Superficie total\" , \"Superficie cubierta\" , \"Habitaciones\" , \"Baños\", \"Tipo de operación\" , \"Precio\"]\n",
        "data = []\n",
        "for i in txt:\n",
        "  x = input(\"\\n\"+ i + \": \")\n",
        "  data.append(x)\n",
        "\n",
        "new_property = Property(data[0],data[1],data[2],data[3],data[4],data[5],data[6],data[7],data[8],data[9],data[10],data[11])\n",
        "\n",
        "tree.insert(new_property)"
      ]
    },
    {
      "cell_type": "code",
      "source": [
        "tree.plot_tree()"
      ],
      "metadata": {
        "id": "ifrvrICuSWY3"
      },
      "execution_count": null,
      "outputs": []
    },
    {
      "cell_type": "markdown",
      "metadata": {
        "id": "OSLgeYxng3VS"
      },
      "source": [
        "2. ELIMINAR NODO POR METRICA"
      ]
    },
    {
      "cell_type": "code",
      "source": [
        "dif = {}                        #Diccionario de métricas y códigos\n",
        "for i in range(len(properties)):\n",
        "  a = Node(properties[i]).metric\n",
        "  b =  Node(properties[i]).info.title.split(\" \")\n",
        "  dif[f\"Metrica 1, código de ciudad {i+1}\"] = (a, b[-1])\n",
        "\n",
        "print(\"\\n\".join(f\"{k}: {v}\" for k, v in dif.items()))\n",
        "metric = input(\"\\nIngrese la metrica que desea buscar para eliminar: \")\n",
        "\n",
        "nodes = tree.find_node_by_metric(float(metric))\n",
        "\n",
        "if len(nodes) > 1:\n",
        "  print(\"\\nLas propiedes que tienen esta metrica y serán eliminadas son: \")\n",
        "  for i in nodes:\n",
        "    print(\"\\n\"+ str(i.info.title))\n",
        "    tree.delete(i)\n",
        "elif len(nodes) == 1:\n",
        "  print(\"\\nLa propiedad que tiene esta metrica y será eliminada es: \" + nodes[0].info.title)\n",
        "  tree.delete(nodes[0])\n",
        "else:\n",
        "  print(\"\\nNo existen propiedades con esta metrica.\")"
      ],
      "metadata": {
        "id": "G3skdMItC5c0"
      },
      "execution_count": null,
      "outputs": []
    },
    {
      "cell_type": "code",
      "source": [
        "tree.plot_tree()"
      ],
      "metadata": {
        "id": "Tty990VgSa2f"
      },
      "execution_count": null,
      "outputs": []
    },
    {
      "cell_type": "markdown",
      "source": [
        "3. BUSCAR NODO POR METRICA"
      ],
      "metadata": {
        "id": "rLGVzJN-CoFT"
      }
    },
    {
      "cell_type": "code",
      "source": [
        "nodes_for_op = [] #lista en la que se guardan los nodos usados en las operaciones 3 y 4"
      ],
      "metadata": {
        "id": "wftkTwSK8rdl"
      },
      "execution_count": null,
      "outputs": []
    },
    {
      "cell_type": "code",
      "source": [
        "\n",
        "metric = input(\"\\nIngrese la metrica que desea buscar: \")\n",
        "nodes = tree.find_node_by_metric(float(metric))\n",
        "\n",
        "if len(nodes) > 1:\n",
        "  print(\"\\nLas propiedes que tienen esta metrica son: \")\n",
        "  for i in nodes:\n",
        "    print(\"\\n\"+ str(i.info.title))\n",
        "    nodes_for_op.append(i)\n",
        "elif len(nodes) == 1:\n",
        "  print(\"\\nLa propiedad que tiene esta metrica es: \" + nodes[0].info.title)\n",
        "  nodes_for_op.append(nodes[0])\n",
        "else:\n",
        "  print(\"\\nNo existen propiedades con esta metrica.\")"
      ],
      "metadata": {
        "id": "64NUsLlD4Q04",
        "colab": {
          "base_uri": "https://localhost:8080/"
        },
        "outputId": "39bd69cd-23b6-4c35-de48-612780d1b177"
      },
      "execution_count": null,
      "outputs": [
        {
          "output_type": "stream",
          "name": "stdout",
          "text": [
            "\n",
            "Ingrese la metrica que desea buscar: 10000\n",
            "\n",
            "Las propiedes que tienen esta metrica son: \n",
            "\n",
            "Apartamento En Arriendo En Medellin Laureles La Castellana Cod. ARPR8966\n",
            "\n",
            "Apartamento En Arriendo En Bucaramanga Ciudadela Real De Minas Cod. AJRE5583\n"
          ]
        }
      ]
    },
    {
      "cell_type": "markdown",
      "source": [
        "4. BUSCAR NODOS POR CRITERIOS"
      ],
      "metadata": {
        "id": "y35PdE6gllTM"
      }
    },
    {
      "cell_type": "code",
      "source": [
        "c1=None\n",
        "c2=None\n",
        "c3=None\n",
        "next=True\n",
        "i=1\n",
        "while next and i <= 3:\n",
        "  op=input('Que criterio quiere seleccionar (escriba el numero): \\n 1. Departamento \\n 2. ciudad \\n 3. tipo de propiedad \\n 4. tipo de operacion \\n 5. latitud \\n 6. longitud \\n 7. superficie total \\n 8. superficie cubierta \\n 9. baños \\n 10. cuartos \\n 11. precio \\n')\n",
        "  op=int(op)\n",
        "  print(op)\n",
        "  op2=input('Desea elegir otro criterio?')\n",
        "  if op2 =='no':\n",
        "    next=False\n",
        "  if i == 1:\n",
        "    c1=op\n",
        "  elif i == 2:\n",
        "    c2=op\n",
        "  elif i == 3:\n",
        "    c3=op\n",
        "  i=i+1"
      ],
      "metadata": {
        "id": "NtKaqi_Dllk5"
      },
      "execution_count": null,
      "outputs": []
    },
    {
      "cell_type": "code",
      "source": [
        "\n",
        "nodes = tree.multiple_search(c1,c2,c3)\n",
        "for i in nodes:\n",
        "  print(i.info.city, i.info.operation_type, i.info.price)"
      ],
      "metadata": {
        "id": "lLT0JzgsWQlY"
      },
      "execution_count": null,
      "outputs": []
    },
    {
      "cell_type": "code",
      "source": [
        "m = folium.Map(location=[6, -72], zoom_start=6, zoom_control=False)\n",
        "for u in nodes:\n",
        "  folium.Marker([u.info.latitude, u.info.longitude], tooltip=u.info.title).add_to(m)\n",
        "display(m)"
      ],
      "metadata": {
        "id": "jk3LznRgljan"
      },
      "execution_count": null,
      "outputs": []
    },
    {
      "cell_type": "markdown",
      "source": [
        "5. RECORRIDO POR NIVELES DEL ARBOL"
      ],
      "metadata": {
        "id": "xizmCtuQll0I"
      }
    },
    {
      "cell_type": "code",
      "source": [
        "queuep = QueueP(300)\n",
        "tree.level_order()"
      ],
      "metadata": {
        "id": "Qxq8fw3plmHH"
      },
      "execution_count": null,
      "outputs": []
    },
    {
      "cell_type": "markdown",
      "source": [
        "#OPCIONES ADICIONALES\n",
        "estas opciones deben ejecutarse justo despues de ejecutar los procedimientos que pueden usar dichas opciones."
      ],
      "metadata": {
        "id": "XVEfukn1IIl7"
      }
    },
    {
      "cell_type": "markdown",
      "source": [
        "A. OBTENER NIVEL DEL NODO"
      ],
      "metadata": {
        "id": "bFDQlETWmTQ2"
      }
    },
    {
      "cell_type": "code",
      "source": [
        "print(f\"Los nodos usados en las opciones 3 y 4 son:\")\n",
        "for i in range(len(nodes_for_op)):\n",
        "  print(f\"\\n{i+1}. {nodes_for_op[i].code()} con métrica {nodes_for_op[i].metric} \\n\")\n",
        "x = input(\"\\n¿Que nodo desea ver su nivel?: \")\n",
        "\n",
        "\n",
        "for i in range(len(nodes_for_op)):\n",
        "  if (nodes_for_op[i].code() == x):\n",
        "    print(f\"\\nEl nivel del nodo {nodes_for_op[i].code()} es {nodes_for_op[i].nivel}\")\n",
        "\n",
        "#print(f\"\\nEl nivel del nodo {nodes_for_op[int(x)-1].code()} es\")"
      ],
      "metadata": {
        "id": "Mdxovnj6mS5K",
        "colab": {
          "base_uri": "https://localhost:8080/"
        },
        "outputId": "abdeedf5-9784-4ab6-9f25-51683abbfd11"
      },
      "execution_count": null,
      "outputs": [
        {
          "output_type": "stream",
          "name": "stdout",
          "text": [
            "Los nodos usados en las opciones 3 y 4 son:\n",
            "\n",
            "1. ARPR8966 con métrica 10000.0 \n",
            "\n",
            "\n",
            "2. AJRE5583 con métrica 10000.0 \n",
            "\n",
            "\n",
            "¿Que nodo desea ver su nivel?: ARPR8966\n",
            "\n",
            "El nivel del nodo ARPR8966 es 6\n"
          ]
        }
      ]
    },
    {
      "cell_type": "markdown",
      "source": [
        "B. FACTOR DE BALANCEO DEL NODO\n"
      ],
      "metadata": {
        "id": "EcQFQVLFP5nD"
      }
    },
    {
      "cell_type": "code",
      "source": [
        "print(f\"Los nodos usados en las opciones 3 y 4 son:\")\n",
        "for i in range(len(nodes_for_op)):\n",
        "  print(f\"\\n{i+1}. {nodes_for_op[i].code()}\")\n",
        "x = input(\"\\n¿Que nodo desea ver su factor de balanceo?: \")\n",
        "for i in range(len(nodes_for_op)):\n",
        "  if x == nodes_for_op[i].code():\n",
        "    print(f\"\\nEl factor de balanceo del nodo {nodes_for_op[i].code()} es {nodes_for_op[i].balance()}\")"
      ],
      "metadata": {
        "id": "UAdGTcZGmfya",
        "colab": {
          "base_uri": "https://localhost:8080/"
        },
        "outputId": "7ce4826b-d57b-4b6b-ca6e-56162ecdd051"
      },
      "execution_count": null,
      "outputs": [
        {
          "output_type": "stream",
          "name": "stdout",
          "text": [
            "Los nodos usados en las opciones 3 y 4 son:\n",
            "\n",
            "1. ARPR8966\n",
            "\n",
            "2. AJRE5583\n",
            "\n",
            "¿Que nodo desea ver su factor de balanceo?: ARPR8966\n",
            "\n",
            "El factor de balanceo del nodo ARPR8966 es -1\n"
          ]
        }
      ]
    },
    {
      "cell_type": "markdown",
      "source": [
        "C. ENCONTRAR PADRE DEL NODO"
      ],
      "metadata": {
        "id": "OSMrzUb_Rdli"
      }
    },
    {
      "cell_type": "code",
      "source": [
        "print(f\"Los nodos usados en las opciones 3 y 4 son:\")\n",
        "for i in range(len(nodes_for_op)):\n",
        "  print(f\"\\n{i+1}. {nodes_for_op[i].code()}\")\n",
        "x = input(\"\\n¿Que nodo desea conocer su padre?: \")\n",
        "for i in range(len(nodes_for_op)):\n",
        "  if x == nodes_for_op[i].code():\n",
        "    p, pad = tree.search_node(nodes_for_op[i])\n",
        "print(f\"\\nEl padre del nodo {p.code()} es {pad.code()}\")\n",
        "nodes_for_op.append(pad) #guardamos al padre para el mapa"
      ],
      "metadata": {
        "id": "PAZpez9BRckz",
        "colab": {
          "base_uri": "https://localhost:8080/"
        },
        "outputId": "26ba6529-8620-4517-b798-f4f964344878"
      },
      "execution_count": null,
      "outputs": [
        {
          "output_type": "stream",
          "name": "stdout",
          "text": [
            "Los nodos usados en las opciones 3 y 4 son:\n",
            "\n",
            "1. ARPR8966\n",
            "\n",
            "2. AJRE5583\n",
            "\n",
            "¿Que nodo desea conocer su padre?: ARPR8966\n",
            "\n",
            "El padre del nodo ARPR8966 es AODH878\n"
          ]
        }
      ]
    },
    {
      "cell_type": "markdown",
      "source": [
        "D. ENCONTRAR ABUELO DEL NODO"
      ],
      "metadata": {
        "id": "z3NZK5W5RfO2"
      }
    },
    {
      "cell_type": "code",
      "source": [
        "print(f\"Los nodos usados en las opciones 3 y 4 son:\")\n",
        "for i in range(len(nodes_for_op)):\n",
        "  print(f\"\\n{i+1}. {nodes_for_op[i].code()}\")\n",
        "x = input(\"\\n¿Que nodo desea conocer su abuelo?: \")\n",
        "for i in range(len(nodes_for_op)):\n",
        "  if x == nodes_for_op[i].code():\n",
        "    grandpa = tree.find_grandpa(nodes_for_op[i].info)\n",
        "    print(f\"\\nEl abuelo del nodo {nodes_for_op[i].code()} es {grandpa.code()}\")\n",
        "nodes_for_op.append(grandpa) #guardamos al abuelo para el mapa"
      ],
      "metadata": {
        "id": "cHfvokFpRjZC",
        "colab": {
          "base_uri": "https://localhost:8080/"
        },
        "outputId": "8524b7cc-c045-494a-e877-7fe5c9c62dba"
      },
      "execution_count": null,
      "outputs": [
        {
          "output_type": "stream",
          "name": "stdout",
          "text": [
            "Los nodos usados en las opciones 3 y 4 son:\n",
            "\n",
            "1. ARPR8966\n",
            "\n",
            "2. AJRE5583\n",
            "\n",
            "3. AODH878\n",
            "\n",
            "¿Que nodo desea conocer su abuelo?: ARPR8966\n",
            "\n",
            "El abuelo del nodo ARPR8966 es ACLV-6242\n"
          ]
        }
      ]
    },
    {
      "cell_type": "markdown",
      "source": [
        "E. ENCONTRAR TIO DEL NODO"
      ],
      "metadata": {
        "id": "ySM83GKsRg9j"
      }
    },
    {
      "cell_type": "code",
      "source": [
        "print(f\"Los nodos usados en las opciones 3 y 4 son:\")\n",
        "for i in range(len(nodes_for_op)):\n",
        "  print(f\"\\n{i+1}. {nodes_for_op[i].code()}\")\n",
        "x = input(\"\\n¿Que nodo desea conocer su tio?: \")\n",
        "for i in range(len(nodes_for_op)):\n",
        "  if x == nodes_for_op[i].code():\n",
        "    a = tree.find_uncle(tree.root, None, None, nodes_for_op[i].info)\n",
        "    print(f\"\\nEl tio de {nodes_for_op[i].code()} es  {a.code()}\")\n",
        "\n",
        "if a not in nodes_for_op:\n",
        "  nodes_for_op.append(a) #guardamos al tio para el mapa"
      ],
      "metadata": {
        "id": "zaE7F_s3Ri0L",
        "colab": {
          "base_uri": "https://localhost:8080/"
        },
        "outputId": "787db00e-c74a-49c7-cd9c-b32cdb177fc2"
      },
      "execution_count": null,
      "outputs": [
        {
          "output_type": "stream",
          "name": "stdout",
          "text": [
            "Los nodos usados en las opciones 3 y 4 son:\n",
            "\n",
            "1. ARPR8966\n",
            "\n",
            "2. AJRE5583\n",
            "\n",
            "3. AODH878\n",
            "\n",
            "4. ACLV-6242\n",
            "\n",
            "¿Que nodo desea conocer su tio?: ARPR8966\n",
            "\n",
            "El tio de ARPR8966 es  AJMI6360\n"
          ]
        }
      ]
    },
    {
      "cell_type": "markdown",
      "source": [
        "BONIFICACIÓN"
      ],
      "metadata": {
        "id": "zvHb2PU1b4gi"
      }
    },
    {
      "cell_type": "code",
      "execution_count": null,
      "metadata": {
        "id": "DS53LzIHruOK"
      },
      "outputs": [],
      "source": [
        "# Crea un mapa centrado en una ubicación inicial\n",
        "m = folium.Map(location=[6, -72], zoom_start=6, zoom_control=False)\n",
        "for u in nodes_for_op:\n",
        "# Añade un marcador en una ubicación específica\n",
        "  folium.Marker([u.info.latitude, u.info.longitude], tooltip=u.info.title).add_to(m)\n",
        "# Muestra el mapa en pantalla\n",
        "display(m)\n"
      ]
    }
  ],
  "metadata": {
    "colab": {
      "provenance": []
    },
    "kernelspec": {
      "display_name": "Python 3",
      "name": "python3"
    },
    "language_info": {
      "name": "python"
    }
  },
  "nbformat": 4,
  "nbformat_minor": 0
}